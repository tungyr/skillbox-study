{
 "cells": [
  {
   "cell_type": "markdown",
   "metadata": {
    "colab_type": "text",
    "id": "c2KtXmjxtgw-"
   },
   "source": [
    "# Исключения\n",
    "## Домашняя работа"
   ]
  },
  {
   "cell_type": "markdown",
   "metadata": {
    "colab_type": "text",
    "id": "0Vhx-zKitgxA"
   },
   "source": [
    "### Вопросы по лекциям."
   ]
  },
  {
   "cell_type": "markdown",
   "metadata": {
    "colab_type": "text",
    "id": "14lleKewtgxC"
   },
   "source": [
    "Как поймать вообще все ошибки, которые могут произойти?"
   ]
  },
  {
   "cell_type": "markdown",
   "metadata": {
    "colab_type": "text",
    "id": "VQnYGkVKtgxD"
   },
   "source": [
    "**Ответ:**\n"
   ]
  },
  {
   "cell_type": "code",
   "execution_count": null,
   "metadata": {},
   "outputs": [],
   "source": [
    "написать в коде \"except BaseException\""
   ]
  },
  {
   "cell_type": "markdown",
   "metadata": {
    "colab_type": "text",
    "id": "paSc2JE6tgxD"
   },
   "source": [
    "Сколько раз подряд можно указывать except?"
   ]
  },
  {
   "cell_type": "markdown",
   "metadata": {
    "colab_type": "text",
    "id": "bU0lzJPBtgxE"
   },
   "source": [
    "**Ответ:**\n"
   ]
  },
  {
   "cell_type": "code",
   "execution_count": null,
   "metadata": {},
   "outputs": [],
   "source": [
    "Неограниченное количество раз"
   ]
  },
  {
   "cell_type": "markdown",
   "metadata": {
    "colab_type": "text",
    "id": "9wQ-yXpGtgxF"
   },
   "source": [
    "Вы хотите с помощью print вывести название ошибки в консоль, как это сделать?"
   ]
  },
  {
   "cell_type": "markdown",
   "metadata": {
    "colab_type": "text",
    "id": "iE1iqRZctgxH"
   },
   "source": [
    "**Ответ:**\n"
   ]
  },
  {
   "cell_type": "code",
   "execution_count": null,
   "metadata": {},
   "outputs": [],
   "source": [
    "Это можно сделать обернув класс ошибки в менеджер контекста \"with...as\" и вывести с помощью print:\n",
    "except ValueError as error:\n",
    "    print(error)"
   ]
  },
  {
   "cell_type": "markdown",
   "metadata": {
    "colab_type": "text",
    "id": "EDAi3ZFBtgxI"
   },
   "source": [
    "Вы хотите с помощью print вывести параметры ошибки в консоль, как это сделать?"
   ]
  },
  {
   "cell_type": "markdown",
   "metadata": {
    "colab_type": "text",
    "id": "qWimgtF3tgxK"
   },
   "source": [
    "**Ответ:**\n"
   ]
  },
  {
   "cell_type": "code",
   "execution_count": null,
   "metadata": {},
   "outputs": [],
   "source": [
    "С помощью менеджера контекста \"with...as\" можно вывести параметры ошибки \".args:\" используя print:\n",
    "except ValueError as error:\n",
    "    print(error.args)"
   ]
  },
  {
   "cell_type": "markdown",
   "metadata": {
    "colab_type": "text",
    "id": "leOCJIlRtgxK"
   },
   "source": [
    "Что такое DeprecationWarning?"
   ]
  },
  {
   "cell_type": "markdown",
   "metadata": {
    "colab_type": "text",
    "id": "KyaynuyvtgxL"
   },
   "source": [
    "**Ответ:**\n"
   ]
  },
  {
   "cell_type": "code",
   "execution_count": null,
   "metadata": {},
   "outputs": [],
   "source": [
    "DeprecationWarning используется в библиотеках при вызове тех или иных функций. С помощью DeprecationWarning разработчики\n",
    "библиотеки дают понять пользователям библиотеки, что используемая функция не будет поддерживаться в следующих версиях\n",
    "библиотеки и вследствие этого могут возникнуть трудности в совместимости версий в будущем."
   ]
  },
  {
   "cell_type": "markdown",
   "metadata": {
    "colab_type": "text",
    "id": "oxgCUHzotgxM"
   },
   "source": [
    "### Разминочные задания. \n",
    "<br>\n",
    "\n",
    "Вам даны две функции. Поисследуйте, какие ошибки могут возникнуть при их реализации. Обработайте эти ошибки."
   ]
  },
  {
   "cell_type": "code",
   "execution_count": 0,
   "metadata": {
    "colab": {},
    "colab_type": "code",
    "id": "X4nsMUUAtgxN"
   },
   "outputs": [],
   "source": [
    "def div():\n",
    "    for i in range(2):\n",
    "        x = int(input(\"enter a number: \"))\n",
    "        y = int(input(\"enter another number: \"))\n",
    "        print(x, '/', y, '=', x/y)\n"
   ]
  },
  {
   "cell_type": "code",
   "execution_count": null,
   "metadata": {},
   "outputs": [],
   "source": [
    "def div():\n",
    "    for i in range(2):\n",
    "        x = input(\"enter a number: \")\n",
    "        y = input(\"enter another number: \")\n",
    "        try:\n",
    "            x, y = int(x), int(y)\n",
    "            print(x, '/', y, '=', x / y)\n",
    "        except ValueError as exc:\n",
    "            print(f'Error: {exc.args} \\nx and y must be integers!')\n",
    "        except ZeroDivisionError as exc:\n",
    "            print(f'Error: {exc.args} \\nSecond number must be greater then 0!')"
   ]
  },
  {
   "cell_type": "code",
   "execution_count": 0,
   "metadata": {
    "colab": {},
    "colab_type": "code",
    "id": "hoDmt-nStgxS"
   },
   "outputs": [],
   "source": [
    "def sumOfPairs(L1, L2):\n",
    "    sum = 0\n",
    "    sumOfPairs = []\n",
    "    for i in range(len(L1)):\n",
    "        sumOfPairs.append(L1[i]+L2[i])\n",
    "\n",
    "    print(\"sumOfPairs = \", sumOfPairs)\n",
    "    "
   ]
  },
  {
   "cell_type": "code",
   "execution_count": null,
   "metadata": {},
   "outputs": [],
   "source": [
    "def sumOfPairs(L1, L2):\n",
    "    try:\n",
    "        sum = 0\n",
    "        sumOfPairs = []\n",
    "        for i in range(len(L1)):\n",
    "            sumOfPairs.append(L1[i] + L2[i])\n",
    "        return sumOfPairs\n",
    "\n",
    "    except TypeError as exc:\n",
    "        print(f'Function parameters should be lists or strokes only:', {exc.args})\n",
    "    except IndexError as exc:\n",
    "        print(f'First function parameter length should be less then second parameter length:', {exc.args})"
   ]
  },
  {
   "cell_type": "markdown",
   "metadata": {
    "colab_type": "text",
    "id": "geX0-Zq6tgxU"
   },
   "source": [
    "### Задание 1.\n",
    "\n",
    "Есть файл с протоколом регистраций пользователей на сайте (registrations.txt).<br>\n",
    "Каждая строка содержит информацию о имени, электронной почте и возрасте человека. <br><br>\n",
    "\n",
    "\n",
    "Надо проверить данные из файла, для каждой строки:\n",
    " - присутсвуют все три поля\n",
    " - поле имени содержит только буквы\n",
    " - поле email содержит @ и .\n",
    " - поле возраст является числом от 10 до 99<br>\n",
    "\n",
    "В результате проверки нужно сформировать два файла\n",
    " - registrations_good.log для правильных данных, записывать строки как есть\n",
    "- registrations_bad.log для ошибочных, записывать строку и вид ошибки.<br>\n",
    "\n",
    "Для валидации строки данных написать метод, который может выкидывать исключения:\n",
    " - НЕ присутсвуют все три поля: ValueError\n",
    " - поле имени содержит НЕ только буквы: NotNameError (кастомное исключение)\n",
    " - поле email НЕ содержит @ и .(точку): NotEmailError (кастомное исключение)\n",
    " - поле возраст НЕ является числом от 10 до 99: ValueError\n",
    "Вызов метода обернуть в try-except."
   ]
  },
  {
   "cell_type": "code",
   "execution_count": 0,
   "metadata": {
    "colab": {},
    "colab_type": "code",
    "id": "Eq2Ax0LntgxW"
   },
   "outputs": [],
   "source": [
    "class NotNameError(Exception):\n",
    "    \"\"\"Name exception class with possibility of setting user error message\"\"\"\n",
    "    message = 'name is invalid!'\n",
    "\n",
    "    def __init__(self, value, message=message):\n",
    "        self.value = value\n",
    "        self.message = message\n",
    "\n",
    "    def __str__(self):\n",
    "        return f'Name error: \"{self.value}\" {self.message}'\n",
    "\n",
    "\n",
    "class NotEmailError(Exception):\n",
    "    \"\"\"E-mail exception class with possibility of setting user error message\"\"\"\n",
    "    message = 'address is invalid!'\n",
    "\n",
    "    def __init__(self, value, message=message):\n",
    "        self.value = value\n",
    "        self.message = message\n",
    "\n",
    "    def __str__(self):\n",
    "        return f'E-mail error: \"{self.value}\" {self.message}'\n",
    "\n",
    "\n",
    "def validate(registration):\n",
    "    \"\"\"Validate registration data\"\"\"\n",
    "\n",
    "    registration = registration.split()\n",
    "    if len(registration) < 3:\n",
    "        raise ValueError(f'Only {len(registration)} field(s) present!')\n",
    "\n",
    "    elif registration[0].isalpha() is False:\n",
    "        raise NotNameError(registration[0])\n",
    "\n",
    "    elif '.' and '@' not in registration[1]:\n",
    "        raise NotEmailError(registration[1])\n",
    "\n",
    "    try:\n",
    "        if int(registration[2]) not in range(10, 100):\n",
    "            raise ValueError(f'\"{registration[2]}\" is not valid age!')\n",
    "    finally:\n",
    "        pass\n",
    "\n",
    "\n",
    "def read_file():\n",
    "    \"\"\"Read file with registration data and catch exceptions\"\"\"\n",
    "    registration_good = []\n",
    "    registration_bad = []\n",
    "    with open('registrations_.txt', 'r') as ff:\n",
    "        for line in ff:\n",
    "            line = line.rstrip('\\n')\n",
    "            try:\n",
    "                validate(line)\n",
    "            except BaseException as exc:\n",
    "                # exc already consist of error type so BaseException used\n",
    "                registration_bad.append(line + f' - {str(exc)}\\n')\n",
    "                continue\n",
    "            else:\n",
    "                registration_good.append(line + '\\n')\n",
    "        write_file(registration_good, registration_bad)\n",
    "\n",
    "\n",
    "def write_file(registration_good, registration_bad):\n",
    "    \"\"\"Write files with good and bad registration data\"\"\"\n",
    "    with open('registration_good.txt', 'w') as ff:\n",
    "        for registration in registration_good:\n",
    "            ff.write(registration)\n",
    "\n",
    "    with open('registration_bad.txt', 'w') as ff:\n",
    "        for registration in registration_bad:\n",
    "            ff.write(registration)"
   ]
  }
 ],
 "metadata": {
  "colab": {
   "name": "jun_anl_exeptions.ipynb",
   "provenance": [],
   "version": "0.3.2"
  },
  "kernelspec": {
   "display_name": "Python 3",
   "language": "python",
   "name": "python3"
  },
  "language_info": {
   "codemirror_mode": {
    "name": "ipython",
    "version": 3
   },
   "file_extension": ".py",
   "mimetype": "text/x-python",
   "name": "python",
   "nbconvert_exporter": "python",
   "pygments_lexer": "ipython3",
   "version": "3.7.4"
  }
 },
 "nbformat": 4,
 "nbformat_minor": 1
}
