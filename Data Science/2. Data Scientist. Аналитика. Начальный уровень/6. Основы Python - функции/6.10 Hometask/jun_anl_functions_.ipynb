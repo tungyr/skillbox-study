{
 "cells": [
  {
   "cell_type": "markdown",
   "metadata": {
    "colab_type": "text",
    "id": "fm2YWUGvts2-"
   },
   "source": [
    "# Функции\n",
    "### Домашнее задание"
   ]
  },
  {
   "cell_type": "markdown",
   "metadata": {
    "colab_type": "text",
    "id": "vtadtcbgts3A"
   },
   "source": [
    "#### 1.\n",
    "Почему возникла ошибка? Объясните и исправьте."
   ]
  },
  {
   "cell_type": "code",
   "execution_count": 0,
   "metadata": {
    "colab": {},
    "colab_type": "code",
    "id": "wYCHLbgJts3C",
    "outputId": "a5d47ca5-71fb-4003-ce4b-101f4c938e38"
   },
   "outputs": [
    {
     "ename": "NameError",
     "evalue": "name 'f' is not defined",
     "output_type": "error",
     "traceback": [
      "\u001b[0;31m---------------------------------------------------------------------------\u001b[0m",
      "\u001b[0;31mNameError\u001b[0m                                 Traceback (most recent call last)",
      "\u001b[0;32m<ipython-input-11-9e89138602aa>\u001b[0m in \u001b[0;36m<module>\u001b[0;34m()\u001b[0m\n\u001b[1;32m      6\u001b[0m \u001b[0;34m\u001b[0m\u001b[0m\n\u001b[1;32m      7\u001b[0m \u001b[0mfactorial\u001b[0m\u001b[0;34m(\u001b[0m\u001b[0;36m3\u001b[0m\u001b[0;34m)\u001b[0m\u001b[0;34m\u001b[0m\u001b[0m\n\u001b[0;32m----> 8\u001b[0;31m \u001b[0mprint\u001b[0m\u001b[0;34m(\u001b[0m\u001b[0mf\u001b[0m\u001b[0;34m)\u001b[0m\u001b[0;34m\u001b[0m\u001b[0m\n\u001b[0m",
      "\u001b[0;31mNameError\u001b[0m: name 'f' is not defined"
     ]
    }
   ],
   "source": [
    "def factorial(n):\n",
    "    f = 1\n",
    "    for i in range(2, n + 1):\n",
    "        f = f * i\n",
    "    return f\n",
    "\n",
    "# factorial(3)\n",
    "# print(f)  # wrong\n",
    "print(factorial(3))"
   ]
  },
  {
   "cell_type": "markdown",
   "metadata": {
    "colab_type": "text",
    "id": "4AEgqr_Its3I"
   },
   "source": [
    "**Объяснение:** \n",
    "<br><br>"
   ]
  },
  {
   "cell_type": "code",
   "execution_count": null,
   "metadata": {},
   "outputs": [],
   "source": [
    "Функция print() обращается к локальной переменной f, которая объявлена внутри функции factorial(), что и вызывает ошибку. \n",
    "Решением может быть объявление переменной f в глобальной области видимости. Т.к. Python производит интерпретацию справа \n",
    "от оператора \"=\", мы получим ошибку \"Local variable referenced before assignment\". Нам придется внутри функции \n",
    "factorial() использовать ключевое слово global f, чтобы дать понять Python откуда брать значение переменной f. Это не \n",
    "очень хорошо, потому что в больших проектах ухудшает понимание кода. Возможно, оптимальным вариантом могло бы быть \n",
    "использование вызова функции factorial() в качестве аргумента функции print(). "
   ]
  },
  {
   "cell_type": "markdown",
   "metadata": {
    "colab_type": "text",
    "id": "A9jbY_Ixts3K"
   },
   "source": [
    "#### 2.\n",
    "Почему переменная S после запуска функции сохранила значение ноль?"
   ]
  },
  {
   "cell_type": "code",
   "execution_count": 0,
   "metadata": {
    "colab": {},
    "colab_type": "code",
    "id": "A_cfBf0Dts3L",
    "outputId": "6f596828-96d2-45bc-d050-56292af00604"
   },
   "outputs": [
    {
     "name": "stdout",
     "output_type": "stream",
     "text": [
      "7\n",
      "0\n"
     ]
    }
   ],
   "source": [
    "S = 0\n",
    "def sum(n, m):\n",
    "    S = n + m\n",
    "    return S\n",
    "\n",
    "print(sum(3, 4))\n",
    "print(S)"
   ]
  },
  {
   "cell_type": "markdown",
   "metadata": {
    "colab_type": "text",
    "id": "oxwz4yVYts3P"
   },
   "source": [
    "**Объяснение:** \n",
    "<br><br>"
   ]
  },
  {
   "cell_type": "code",
   "execution_count": null,
   "metadata": {},
   "outputs": [],
   "source": [
    "Функция print(S) принимает в качестве аргумента глобальную переменную S, которая изначально была равна 0 и не менялась\n",
    "по ходу выполнения программы. Внутри функции sum() присутствует другая переменная S, локальная, отличная от глобальной \n",
    "переменной S."
   ]
  },
  {
   "cell_type": "markdown",
   "metadata": {
    "colab_type": "text",
    "id": "ws1lmJfhts3R"
   },
   "source": [
    "#### 3.\n",
    "Почему возникла ошибка? Объясните и исправьте, чтобы функция могла работать с данными на входе в примере с `res`."
   ]
  },
  {
   "cell_type": "code",
   "execution_count": 12,
   "metadata": {
    "colab": {},
    "colab_type": "code",
    "id": "ad8eYc35ts3S",
    "outputId": "c991c697-d867-4403-f1fd-5851d65b7942"
   },
   "outputs": [],
   "source": [
    "def mult(*, q, w, e, r, t, y):\n",
    "    return q + w + e + r + t + y\n",
    "\n",
    "# res = mult(1, 2, 3, 4, 5, 6)  # wrong\n",
    "res = mult(q=1, w=2, e=3, r=4, t=5, y=6)\n",
    "res_dict = {'q': 1, 'w': 2, 'e': 3, 'r': 4, 't': 5, 'y': 6}\n",
    "res = mult(**res_dict)"
   ]
  },
  {
   "cell_type": "markdown",
   "metadata": {
    "colab_type": "text",
    "id": "yVwoWfiWts3Y"
   },
   "source": [
    "**Объяснение:** \n",
    "<br><br>"
   ]
  },
  {
   "cell_type": "code",
   "execution_count": null,
   "metadata": {},
   "outputs": [],
   "source": [
    "знак \"*\" в параметрах функции mult(), говорит о том, что все аргументы на вход функции должны\n",
    " быть со значениями ключей. Есть два варианта решения ошибки: напрямую указывать ключи при вызове функции, либо \n",
    " распаковывать на вход функции mult() словарь с аргументами mult(**res_dict). "
   ]
  },
  {
   "cell_type": "markdown",
   "metadata": {
    "colab_type": "text",
    "id": "UTT3sbJXts3a"
   },
   "source": [
    "#### 4.\n",
    "Почему возникла ошибка? Объясните и исправьте, чтобы функция могла работать с данными на входе в примере."
   ]
  },
  {
   "cell_type": "code",
   "execution_count": 13,
   "metadata": {
    "colab": {},
    "colab_type": "code",
    "id": "xizQ5rdqts3b",
    "outputId": "a52d4f28-5521-48fe-a968-13b7491cfb65"
   },
   "outputs": [
    {
     "name": "stdout",
     "output_type": "stream",
     "text": [
      "733036532959081958493044038604220573003076872623105825587799726719137081664242889213090239865705342028379233496941111919796792708971905802219444504019006104332493489107721493845412453899793946281899700834091715387952751830219643610349979360602856524762182507733859966860842500858768382394753399581156286449561160783713877222895092808637540218804927005623038569306841733685039433236910980897592858987002063924013988530964522502594931500371157643132061597303111367258489022159044511817010529399435883286083212695075903281596592105429678751689059533454035251548334986509241552406961532864939006610513597608967402985707857424513196823658884413602881077337616965779954194874666031301491450438900838443296921074535307486056701074634195717288344127864971903293281532919139948732795811179970577905638353069459326437465009401802406334569163539571111057039009740125070184999823974525412495495402254164218902587890625\n"
     ]
    }
   ],
   "source": [
    "def power(a, s, *, d):\n",
    "    res = a ** s ** d\n",
    "    print(res)\n",
    "    \n",
    "# power(d=4, 5, 6)  # wrong\n",
    "power(5, 6, d=4)\n"
   ]
  },
  {
   "cell_type": "code",
   "execution_count": null,
   "metadata": {},
   "outputs": [],
   "source": [
    "Объяснение: наличие позиционных аргументов после именованного в вызове функции вызывает ошибку. Следует перенести \n",
    "именованный аргумент в конец списка аргументов."
   ]
  },
  {
   "cell_type": "markdown",
   "metadata": {
    "colab_type": "text",
    "id": "GfY6txsXts3f"
   },
   "source": [
    "#### 5.\n",
    "Почему возникла ошибка? Объясните и исправьте, чтобы функция могла работать с данными на входе в примере."
   ]
  },
  {
   "cell_type": "code",
   "execution_count": 14,
   "metadata": {
    "colab": {},
    "colab_type": "code",
    "id": "oYQQA2PBts3g",
    "outputId": "7036c68d-1c7f-4034-f3de-816e075f6059"
   },
   "outputs": [
    {
     "name": "stdout",
     "output_type": "stream",
     "text": [
      "29\n"
     ]
    }
   ],
   "source": [
    "def mult2(*args):\n",
    "    res = 1\n",
    "    for i in args:\n",
    "        res += i\n",
    "    return res\n",
    "\n",
    "List = [1, 2, 3, 4, 5, 6, 7]\n",
    "# print(mult2(List))  # wrong\n",
    "print(mult2(*List))"
   ]
  },
  {
   "cell_type": "code",
   "execution_count": null,
   "metadata": {},
   "outputs": [],
   "source": [
    "Объяснение: чтобы функция mult2() могла принять в качестве аргументов элементы списка List, а не сам список,\n",
    "необходимо в вызове функции распаковать список с помощью знака \"*\"."
   ]
  },
  {
   "cell_type": "markdown",
   "metadata": {
    "colab_type": "text",
    "id": "QcuTA23Uts3l"
   },
   "source": [
    "#### 6.\n",
    "Почему возникла ошибка? Объясните и исправьте."
   ]
  },
  {
   "cell_type": "code",
   "execution_count": 15,
   "metadata": {
    "colab": {},
    "colab_type": "code",
    "id": "N51MkraMts3n",
    "outputId": "21cd0746-6fa8-45d8-dab1-d050fc5c6034"
   },
   "outputs": [],
   "source": [
    "# def some_function(a, b, **kwargs, *args):  # wrong\n",
    "def some_function(a, b, *args, **kwargs):\n",
    "    pass"
   ]
  },
  {
   "cell_type": "markdown",
   "metadata": {
    "colab_type": "text",
    "id": "Mj0qEUurts36"
   },
   "source": [
    "**Объяснение:** \n",
    "<br><br>"
   ]
  },
  {
   "cell_type": "code",
   "execution_count": null,
   "metadata": {},
   "outputs": [],
   "source": [
    "*args, принимающий любые позиционные аргументы на вход функции some_function() не может стоять после **kwargs, принимающего \n",
    "любые именованные аргументы."
   ]
  },
  {
   "cell_type": "markdown",
   "metadata": {
    "colab_type": "text",
    "id": "Me-VY77Bts37"
   },
   "source": [
    "#### 7.\n",
    "Почему не был создан новый список при повторном запуске функции? Объясните и исправьте."
   ]
  },
  {
   "cell_type": "code",
   "execution_count": 0,
   "metadata": {
    "colab": {},
    "colab_type": "code",
    "id": "wXhSLV5xts3-",
    "outputId": "aa4dbf80-bc9a-42c0-c402-e63a1a2c71b1"
   },
   "outputs": [
    {
     "name": "stdout",
     "output_type": "stream",
     "text": [
      "['яблоки', 'молоко', 'хлеб']\n",
      "['яблоки', 'молоко', 'хлеб', 'груши', 'йогурт', 'мясо']\n"
     ]
    }
   ],
   "source": [
    "# def to_buy(*new_items, shopping_list=[]):  # wrong\n",
    "#     for i in new_items:\n",
    "#         shopping_list.append(i)\n",
    "#     return shopping_list\n",
    "\n",
    "def to_buy(*new_items, shopping_list=None):  \n",
    "    if shopping_list == None:\n",
    "        shopping_list = []\n",
    "    for i in new_items:\n",
    "        shopping_list.append(i)\n",
    "    return shopping_list\n",
    "\n",
    "monday = to_buy('яблоки', 'молоко', 'хлеб')\n",
    "print(monday, id(monday))\n",
    "\n",
    "tuesday = to_buy('груши', 'йогурт', 'мясо')\n",
    "print(tuesday, id(tuesday))"
   ]
  },
  {
   "cell_type": "markdown",
   "metadata": {
    "colab_type": "text",
    "id": "nfb7HR6Lts4I"
   },
   "source": [
    "**Объяснение:** \n",
    "<br><br>"
   ]
  },
  {
   "cell_type": "code",
   "execution_count": null,
   "metadata": {},
   "outputs": [],
   "source": [
    "т.к. списки - это изменяемые объекты, после создания списка при первом вызове функции этот список остается \n",
    " в памяти и используется при всех последующих вызовах функции, независимо от применения к нему новых имен. Как вариант,\n",
    " можно явно передавать в функцию свой список (каждый раз предварительно создавая новый), заменяя список по умолчанию. \n",
    " Либо создавать список новый список внутри функции по условию его отсутствия в передаваемых при вызове функции аргументов. "
   ]
  },
  {
   "cell_type": "markdown",
   "metadata": {
    "colab_type": "text",
    "id": "nXWDuX9Kts4J"
   },
   "source": [
    "#### 8.\n",
    "Измените данную функцию так, чтобы она распечатывала названия продуктов из словаря в примере.\n"
   ]
  },
  {
   "cell_type": "code",
   "execution_count": 1,
   "metadata": {
    "colab": {},
    "colab_type": "code",
    "id": "SBW9DRlots4L",
    "outputId": "500ecd98-600a-4075-83fa-5c897ef31df8"
   },
   "outputs": [
    {
     "name": "stdout",
     "output_type": "stream",
     "text": [
      "яблоки\n",
      "молоко\n",
      "хлеб\n",
      "груши\n",
      "йогурт\n",
      "мясо\n"
     ]
    }
   ],
   "source": [
    "def print_all(**kwargs):\n",
    "    for i in kwargs.values():\n",
    "        print(i)\n",
    "\n",
    "print_all(**{'1': 'яблоки', '2': 'молоко', '3': 'хлеб', '4': 'груши', '5': 'йогурт', '6': 'мясо'})"
   ]
  },
  {
   "cell_type": "markdown",
   "metadata": {
    "colab_type": "text",
    "id": "Qse7He_ets4W"
   },
   "source": [
    "#### 9.\n",
    "Программисты договорились, что переменные такого рода являются.. *(вопрос из лекции)*"
   ]
  },
  {
   "cell_type": "code",
   "execution_count": 0,
   "metadata": {
    "colab": {},
    "colab_type": "code",
    "id": "GZldqNGTts4Y"
   },
   "outputs": [],
   "source": [
    "TOKEN = ..."
   ]
  },
  {
   "cell_type": "markdown",
   "metadata": {
    "colab_type": "text",
    "id": "XwagZX5bts4c"
   },
   "source": [
    "**Ответ:** \n",
    "<br>\n",
    "<br>"
   ]
  },
  {
   "cell_type": "code",
   "execution_count": null,
   "metadata": {},
   "outputs": [],
   "source": [
    "Константами"
   ]
  },
  {
   "cell_type": "markdown",
   "metadata": {
    "colab_type": "text",
    "id": "GhEM45Mots4d"
   },
   "source": [
    "#### 10.\n",
    "Напишите функцию, которая с помощью рекурсии считает сумму последовательности с шагом m. В качестве аргументов подаются целые положительные числа n (последний элемент последовательности) и m (шаг последовательности). Считается, что все члены последовательности являются целыми положительными числами.\n",
    "\n",
    "Пример:\n",
    "\n",
    "```\n",
    "sum_of_seq(5, 1)\n",
    "15\n",
    " \n",
    "sum_of_seq(5, 9)\n",
    "5\n",
    "\n",
    "sum_of_seq(8, 2)\n",
    "20\n",
    "```\n"
   ]
  },
  {
   "cell_type": "code",
   "execution_count": 4,
   "metadata": {
    "colab": {},
    "colab_type": "code",
    "id": "vPXkJ79ats4e"
   },
   "outputs": [
    {
     "name": "stdout",
     "output_type": "stream",
     "text": [
      "Enter amount of integers n, calculation step m separated by comma. Example: 1, 2: 8, 2\n",
      "You have entered: n = 8, m = 2\n",
      "Sum of integers in row [2, 4, 6, 8] with step 2 is 20\n"
     ]
    },
    {
     "data": {
      "text/plain": [
       "20"
      ]
     },
     "execution_count": 4,
     "metadata": {},
     "output_type": "execute_result"
    }
   ],
   "source": [
    "def summary():\n",
    "    \"\"\"Function recursively calculates summary of integers row, defined by user\"\"\"\n",
    "    result = 0\n",
    "\n",
    "    def recursive_sum(calc_list, countdown):\n",
    "        \"\"\"Recursive calculation of integer\\'s range sum\"\"\"\n",
    "        if countdown == 0:\n",
    "            return calc_list[countdown]\n",
    "        next_call = recursive_sum(calc_list, countdown=countdown - 1)\n",
    "        if countdown < len(calc_list):\n",
    "            next_call = next_call + calc_list[countdown]\n",
    "            return next_call\n",
    "        else:\n",
    "            return next_call\n",
    "\n",
    "    while True:\n",
    "        user_input = input('Enter amount of integers n, calculation step m separated by comma. Example: 1, 2: ')\n",
    "\n",
    "        # check whether user input consist of integers\n",
    "        try:\n",
    "            user_input = user_input.split(',')\n",
    "            user_input = [int(i) for i in user_input]\n",
    "            range_n, step_m = user_input\n",
    "            print(f'You have entered: n = {range_n}, m = {step_m}')\n",
    "            \n",
    "        except ValueError:\n",
    "            again = input('Something went wrong! Input should be like this: 1, 2. Try again? y/n: ')\n",
    "            if again == 'y':\n",
    "                continue\n",
    "            else:\n",
    "                break\n",
    "        else:\n",
    "            # check whether user input consist of positive integers\n",
    "            if range_n <= 0 or step_m <= 0:\n",
    "                again = input('Integers are less or equal to 0! Input should be like this: 1, 2. Try again? y/n: ')\n",
    "                if again == 'y':\n",
    "                    continue\n",
    "                else:\n",
    "                    break\n",
    "\n",
    "        generated_list = list(range(1, range_n + 1))\n",
    "        # check for step bigger than last integer row value\n",
    "        \n",
    "        if range_n <= step_m:\n",
    "            print(f'Sum of integers in row {generated_list} with step {step_m} is {generated_list[-1]}')\n",
    "        else:\n",
    "            # include in integer row only values as per step m\n",
    "            generated_list = generated_list[step_m - 1::step_m]\n",
    "            result = recursive_sum(calc_list=generated_list, countdown=range_n)\n",
    "            print(f'Sum of integers in row {generated_list} with step {step_m} is {result}')\n",
    "        return result\n",
    "\n",
    "\n",
    "summary()\n",
    "\n"
   ]
  },
  {
   "cell_type": "markdown",
   "metadata": {
    "colab_type": "text",
    "id": "_nuDRzdBts4k"
   },
   "source": [
    "#### 11.\n",
    "Напишите функцию, которая возводит число в положительную степень с помощью рекурсии. В качестве аргументов подаются целые положительные числа n (число) и m (степень)."
   ]
  },
  {
   "cell_type": "code",
   "execution_count": 7,
   "metadata": {
    "colab": {},
    "colab_type": "code",
    "id": "_9_BMZCxts4m"
   },
   "outputs": [
    {
     "name": "stdout",
     "output_type": "stream",
     "text": [
      "Please enter base number n, exponent - integer m separated by comma. Example: 2, 3: 2, 3\n",
      "You have entered base number n = 2, exponent m = 3 : 2³\n",
      "The power of 2³ is 8\n"
     ]
    },
    {
     "data": {
      "text/plain": [
       "8"
      ]
     },
     "execution_count": 7,
     "metadata": {},
     "output_type": "execute_result"
    }
   ],
   "source": [
    "def exponent():\n",
    "    \"\"\"Function recursively calculates power of integer with base number and exponent defined by user\"\"\"\n",
    "\n",
    "    superscript_map = {\n",
    "        \"0\": \"⁰\", \"1\": \"¹\", \"2\": \"²\", \"3\": \"³\", \"4\": \"⁴\", \"5\": \"⁵\", \"6\": \"⁶\",\n",
    "        \"7\": \"⁷\", \"8\": \"⁸\", \"9\": \"⁹\"}\n",
    "\n",
    "    result = 0\n",
    "\n",
    "    while True:\n",
    "        user_input = input('Please enter base number n, exponent - integer m separated by comma. Example: 2, 3: ')\n",
    "\n",
    "        # check whether user input consist of integers\n",
    "        try:\n",
    "            user_input = user_input.split(',')\n",
    "            user_input = [int(i) for i in user_input]\n",
    "            base_n, exponent_m = user_input\n",
    "\n",
    "            # convert exponent_m to superscript style view (2³)\n",
    "            superscript_exponent = \"\"\n",
    "            for exponent_digit in str(exponent_m):\n",
    "                superscript_exponent = superscript_exponent + superscript_map[exponent_digit]\n",
    "\n",
    "            print(f'You have entered base number n = {base_n}, exponent m = {exponent_m} : {base_n}{superscript_exponent}')\n",
    "            \n",
    "        except ValueError:\n",
    "            again = input('Something went wrong! Input should be like this: 2, 3. Try again? y/n: ')\n",
    "            if again == 'y':\n",
    "                continue\n",
    "            else:\n",
    "                break\n",
    "        else:\n",
    "            # check whether user input consist of positive integers\n",
    "            if base_n <= 0 or exponent_m <= 0:\n",
    "                again = input('Integers are less or equal to 0! Input should be like this: 2, 3. Try again? y/n: ')\n",
    "                if again == 'y':\n",
    "                    continue\n",
    "                else:\n",
    "                    break\n",
    "\n",
    "        def recursive_exponent(base, exponent):\n",
    "            \"\"\"Recursive calculation power of integer\"\"\"\n",
    "            if exponent == 1:\n",
    "                return base\n",
    "            next_call = recursive_exponent(base, exponent=exponent - 1)\n",
    "            next_call = next_call * base\n",
    "            return next_call\n",
    "\n",
    "        result = recursive_exponent(base=base_n, exponent=exponent_m)\n",
    "        print(f'The power of {base_n}{superscript_exponent} is {result}')\n",
    "        return result\n",
    "\n",
    "\n",
    "exponent()\n",
    "\n"
   ]
  },
  {
   "cell_type": "markdown",
   "metadata": {
    "colab_type": "text",
    "id": "1K4dbMwcts4v"
   },
   "source": [
    "#### 12.\n",
    "Напишите функцию, которая возводит число в отрицательную степень число с помощью рекурсии. В качестве аргументов подаются целое положительное число n (число) и целое отрицательное число m (степень)."
   ]
  },
  {
   "cell_type": "code",
   "execution_count": 8,
   "metadata": {
    "colab": {},
    "colab_type": "code",
    "id": "ddZY7Fdxts4x"
   },
   "outputs": [
    {
     "name": "stdout",
     "output_type": "stream",
     "text": [
      "Please enter base number n, negative exponent - integer m separated by comma. Example: 2, -3: 2, -3\n",
      "You have entered base number n = 2, exponent m = 3 : 2⁻³\n",
      "The power of 2⁻³ is 1/8 or 0.125\n"
     ]
    },
    {
     "data": {
      "text/plain": [
       "8"
      ]
     },
     "execution_count": 8,
     "metadata": {},
     "output_type": "execute_result"
    }
   ],
   "source": [
    "def negative_exponent():\n",
    "    \"\"\"Function recursively calculates power of integer with base number and negative exponent defined by user\"\"\"\n",
    "\n",
    "    superscript_map = {\n",
    "        \"0\": \"⁰\", \"1\": \"¹\", \"2\": \"²\", \"3\": \"³\", \"4\": \"⁴\", \"5\": \"⁵\", \"6\": \"⁶\",\n",
    "        \"7\": \"⁷\", \"8\": \"⁸\", \"9\": \"⁹\", \"-\": \"⁻\"}\n",
    "\n",
    "    result = 0\n",
    "\n",
    "    while True:\n",
    "        user_input = input('Please enter base number n, negative exponent - integer m separated by comma. '\n",
    "                           'Example: 2, -3: ')\n",
    "\n",
    "        # check whether user input consist of integers\n",
    "        try:\n",
    "            user_input = user_input.split(',')\n",
    "            user_input = [int(i) for i in user_input]\n",
    "            base_n, exponent_m = user_input\n",
    "            exponent_m = abs(exponent_m)\n",
    "\n",
    "            # convert exponent_m to superscript style view (2³)\n",
    "            superscript_exponent = \"⁻\"\n",
    "            for exponent_digit in str(exponent_m):\n",
    "                superscript_exponent = superscript_exponent + superscript_map[exponent_digit]\n",
    "\n",
    "            print(f'You have entered base number n = {base_n}, exponent m = {exponent_m} : '\n",
    "                  f'{base_n}{superscript_exponent}')\n",
    "            \n",
    "        except ValueError:\n",
    "            again = input('Something went wrong! Input should be like this: 2, 3. Try again? y/n: ')\n",
    "            if again == 'y':\n",
    "                continue\n",
    "            else:\n",
    "                break\n",
    "        else:\n",
    "            # check whether base n is > 0\n",
    "            if base_n <= 0:\n",
    "                again = input('Base is less or equal to 0! Input should be like this: 2, -3. Try again? y/n: ')\n",
    "                if again == 'y':\n",
    "                    continue\n",
    "                else:\n",
    "                    break\n",
    "\n",
    "        def recursive_negative_exponent(base, exponent):\n",
    "            \"\"\"Recursive calculation power of integer\"\"\"\n",
    "            if exponent == 1:\n",
    "                return base\n",
    "            next_call = recursive_negative_exponent(base, exponent=exponent - 1)\n",
    "            next_call = next_call * base\n",
    "            return next_call\n",
    "\n",
    "        result = recursive_negative_exponent(base=base_n, exponent=exponent_m)\n",
    "        result_division = 1 / result\n",
    "        print(f'The power of {base_n}{superscript_exponent} is 1/{result} or {result_division}')\n",
    "        return result\n",
    "\n",
    "\n",
    "negative_exponent()\n",
    "\n"
   ]
  },
  {
   "cell_type": "markdown",
   "metadata": {
    "colab_type": "text",
    "id": "IxBt4VyQts41"
   },
   "source": [
    "#### 13.\n",
    "\n",
    "Напишите функцию, которая находит число Фиббоначи по его номеру. В качестве аргумента подается целое положительное число n (число)."
   ]
  },
  {
   "cell_type": "code",
   "execution_count": 10,
   "metadata": {
    "colab": {},
    "colab_type": "code",
    "id": "8DEaBWjkts43"
   },
   "outputs": [
    {
     "name": "stdout",
     "output_type": "stream",
     "text": [
      "Please enter one serial number n of Fibonacci sequence: 7\n",
      "The Fibonacci sequence serial number n 7 is 13\n"
     ]
    },
    {
     "data": {
      "text/plain": [
       "[0, 1, 1, 2, 3, 5, 8, 13]"
      ]
     },
     "execution_count": 10,
     "metadata": {},
     "output_type": "execute_result"
    }
   ],
   "source": [
    "# Я сделал две версии программы. Первая, закомментированная, сохраняет значение ряда Фибоначчи в файл для повторного ипользования.\n",
    "# Наверное это может быть полезно для сохранения времени выполнения программы при работе с большими объемами данных, не знаю. \n",
    "# Так или иначе мне хотелось продемонстрировать код обеих программ:)\n",
    "\n",
    "# def fibonacci():\n",
    "#     \"\"\"Function recursively defines fibonacci sequence number defined by user\n",
    "#     first number of sequence takes as 1, not 0. Save Fibonacci sequence to file for further further use\"\"\"\n",
    "\n",
    "#     result = 0\n",
    "\n",
    "#     while True:\n",
    "#         user_input = input('Please enter one serial number n of Fibonacci sequence: ')\n",
    "\n",
    "#         # check whether user input consist of integers\n",
    "#         try:\n",
    "#             number_n = abs(int(user_input))\n",
    "\n",
    "#         except ValueError:\n",
    "#             again = input('Something went wrong! Input should be like this: 1. Try again? y/n: ')\n",
    "#             if again == 'y':\n",
    "#                 continue\n",
    "#             else:\n",
    "#                 break\n",
    "\n",
    "#         def fibonacci_file(read=None, write=None, fib_sec=None):\n",
    "#             \"\"\"Function saves Fibonacci sequence to file and read during next call\"\"\"\n",
    "#             file_path = \"fibonacci.txt\"\n",
    "\n",
    "#             if write:\n",
    "#                 f = open('fibonacci.txt', 'w')\n",
    "#                 for digit in fib_sec:\n",
    "#                     f.write(str(digit) + ',')\n",
    "#                 f.close()\n",
    "#                 return\n",
    "\n",
    "#             if read:\n",
    "#                 # if file exist\n",
    "#                 if os.path.isfile(file_path):\n",
    "#                     f = open(\"fibonacci.txt\")\n",
    "#                     saved_fib_seq = f.read().split(',')\n",
    "#                     # check for last empty item in saved Fibonacci list\n",
    "#                     if saved_fib_seq[-1] == '':\n",
    "#                         saved_fib_seq.pop()\n",
    "#                     return saved_fib_seq\n",
    "#             else:\n",
    "#                 return None\n",
    "\n",
    "#         def fibonacci_sequence(n):\n",
    "#             \"\"\"Recursive calculation of Fibonacci sequence\"\"\"\n",
    "#             if n == 0 or n == 1:\n",
    "#                 fib_seq = [0, 1]\n",
    "#                 return fib_seq\n",
    "#             next_call = fibonacci_sequence(n=n - 1)\n",
    "#             next_fib_number = next_call[len(next_call) - 2] + next_call[len(next_call) - 1]\n",
    "#             next_call.append(next_fib_number)\n",
    "#             return next_call\n",
    "\n",
    "#         # trying to read previously saved Fibonacci sequence\n",
    "#         fibonacci_file_sequence = fibonacci_file(read=True)\n",
    "#         if fibonacci_file_sequence is None:  # if no Fibonacci sequence in file / no file at all\n",
    "#             result = fibonacci_sequence(n=number_n)\n",
    "#             print(f'The Fibonacci sequence serial number n {number_n} is {result[number_n]}')\n",
    "#             # write Fibonacci sequence with max number \"number_n\" to file for next call\n",
    "#             fibonacci_file(write=True, fib_sec=result)\n",
    "#         else:\n",
    "#             result = fibonacci_file_sequence\n",
    "#             # check whether \"number_n\" sequence number is in previously saved in file Fibonacci sequence\n",
    "#             if (len(result)) <= number_n:\n",
    "#                 result = fibonacci_sequence(n=number_n)\n",
    "#                 # write Fibonacci sequence with max number \"number_n\" to file for next call\n",
    "#                 fibonacci_file(write=True, fib_sec=result)\n",
    "#             print(f'The Fibonacci sequence serial number n {number_n} is {result[number_n]}')\n",
    "#         return result\n",
    "\n",
    "\n",
    "# fibonacci()\n",
    "\n",
    "\n",
    "\n",
    "\n",
    "def fibonacci():\n",
    "    \"\"\"Function recursively defines fibonacci sequence number defined by user.\n",
    "    First number of sequence takes as 1, not 0\"\"\"\n",
    "\n",
    "    result = 0\n",
    "\n",
    "    while True:\n",
    "        user_input = input('Please enter one serial number n of Fibonacci sequence: ')\n",
    "\n",
    "        # check whether user input consist of integers\n",
    "        try:\n",
    "            number_n = abs(int(user_input))\n",
    "\n",
    "        except ValueError:\n",
    "            again = input('Something went wrong! Input should be like this: 1. Try again? y/n: ')\n",
    "            if again == 'y':\n",
    "                continue\n",
    "            else:\n",
    "                break\n",
    "\n",
    "        def fibonacci_sequence(n):\n",
    "            \"\"\"Recursive calculation of Fibonacci sequence\"\"\"\n",
    "            if n == 0 or n == 1:\n",
    "                fib_seq = [0, 1]\n",
    "                return fib_seq\n",
    "            next_call = fibonacci_sequence(n=n - 1)\n",
    "            next_fib_number = next_call[len(next_call) - 2] + next_call[len(next_call) - 1]\n",
    "            next_call.append(next_fib_number)\n",
    "            return next_call\n",
    "\n",
    "        result = fibonacci_sequence(n=number_n)\n",
    "        print(f'The Fibonacci sequence serial number n {number_n} is {result[number_n]}')\n",
    "\n",
    "        return result\n",
    "\n",
    "\n",
    "fibonacci()\n"
   ]
  }
 ],
 "metadata": {
  "colab": {
   "collapsed_sections": [],
   "name": "jun_anl_functions.ipynb",
   "provenance": []
  },
  "kernelspec": {
   "display_name": "Python 3",
   "language": "python",
   "name": "python3"
  },
  "language_info": {
   "codemirror_mode": {
    "name": "ipython",
    "version": 3
   },
   "file_extension": ".py",
   "mimetype": "text/x-python",
   "name": "python",
   "nbconvert_exporter": "python",
   "pygments_lexer": "ipython3",
   "version": "3.7.4"
  }
 },
 "nbformat": 4,
 "nbformat_minor": 1
}
