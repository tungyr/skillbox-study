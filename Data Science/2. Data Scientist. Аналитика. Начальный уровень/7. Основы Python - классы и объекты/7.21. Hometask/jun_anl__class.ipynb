{
 "cells": [
  {
   "cell_type": "markdown",
   "metadata": {},
   "source": [
    "# Классы\n",
    "## Домашнее задание"
   ]
  },
  {
   "cell_type": "markdown",
   "metadata": {},
   "source": [
    "### Вопросы по лекциям\n",
    "\n",
    "#### 1.\n",
    "\n",
    "Напишите название функции, которая является конструктором класса."
   ]
  },
  {
   "cell_type": "markdown",
   "metadata": {},
   "source": [
    "**Ответ:**"
   ]
  },
  {
   "cell_type": "code",
   "execution_count": null,
   "metadata": {},
   "outputs": [],
   "source": [
    "__init__(self)"
   ]
  },
  {
   "cell_type": "markdown",
   "metadata": {},
   "source": [
    "#### 2.\n",
    "\n",
    "На что указывает переменная `self`?"
   ]
  },
  {
   "cell_type": "markdown",
   "metadata": {},
   "source": [
    "**Ответ:**"
   ]
  },
  {
   "cell_type": "code",
   "execution_count": null,
   "metadata": {},
   "outputs": [],
   "source": [
    "На сам объект экземпляра класса(instance)"
   ]
  },
  {
   "cell_type": "markdown",
   "metadata": {},
   "source": [
    "#### 3.\n",
    "С помощью какой функции можно проверить, что некая строка является именем одного из атрибутов объекта?"
   ]
  },
  {
   "cell_type": "markdown",
   "metadata": {},
   "source": [
    "**Ответ:**"
   ]
  },
  {
   "cell_type": "code",
   "execution_count": null,
   "metadata": {},
   "outputs": [],
   "source": [
    "hasattr()"
   ]
  },
  {
   "cell_type": "markdown",
   "metadata": {},
   "source": [
    "#### 4.\n",
    "Когда вызывается метод `__del__`? (относительно события удаления объекта)"
   ]
  },
  {
   "cell_type": "markdown",
   "metadata": {},
   "source": [
    "**Ответ:**"
   ]
  },
  {
   "cell_type": "code",
   "execution_count": null,
   "metadata": {},
   "outputs": [],
   "source": [
    "Метод __del__ вызывается каждый раз, когда на объект в коде не остается ни одной ссылки. Можно вызвать __del__\n",
    "явно для удаления объекта в конце выполнения функции, например."
   ]
  },
  {
   "cell_type": "markdown",
   "metadata": {},
   "source": [
    "#### 5.\n",
    "Верно ли, что атрибут класса перекрывает атрибут объекта?"
   ]
  },
  {
   "cell_type": "markdown",
   "metadata": {},
   "source": [
    "**Ответ:**"
   ]
  },
  {
   "cell_type": "code",
   "execution_count": null,
   "metadata": {},
   "outputs": [],
   "source": [
    "Если объекту присваивается атрибут с таким же именем как в классе, то он перекрывает атрибут класса."
   ]
  },
  {
   "cell_type": "markdown",
   "metadata": {},
   "source": [
    "#### 6.\n",
    "Можно ли атрибуты базового класса вызывать в дочернем классе? Если да, то напишите, нет ли исклчений?"
   ]
  },
  {
   "cell_type": "markdown",
   "metadata": {},
   "source": [
    "**Ответ:**"
   ]
  },
  {
   "cell_type": "code",
   "execution_count": null,
   "metadata": {},
   "outputs": [],
   "source": [
    "Вызывать атрибуты базового класса можно в дочернем, если только они не системные и не начинаются с \n",
    "двойного подчеркивания."
   ]
  },
  {
   "cell_type": "markdown",
   "metadata": {},
   "source": [
    "#### 7.\n",
    "Объясните своими словами для чего нужен метод `super`."
   ]
  },
  {
   "cell_type": "markdown",
   "metadata": {},
   "source": [
    "**Ответ:**"
   ]
  },
  {
   "cell_type": "code",
   "execution_count": null,
   "metadata": {},
   "outputs": [],
   "source": [
    "Метод super позволяет вызывать базовый метод и на его основе дополнять нужную функциональность в методе дочернего класса."
   ]
  },
  {
   "cell_type": "markdown",
   "metadata": {},
   "source": [
    "### Практика\n",
    "\n",
    "1. Напишите класс `Fraction` для работы с дробями. Пусть дробь в нашем классе предстает в виде `числитель/знаменатель`. Дробное число должно создаваться по запросу `Fraction(a, b)`, где `a` – это числитель, а `b` – знаменатель дроби. \n",
    "2. Добавьте возможность сложения (сложения через оператор сложения) для дроби. Предполагается, что операция сложения может проводиться как только между дробями, так и между дробью и целым числом. Результат оперции должен быть представлен в виде дроби.\n",
    "3. Добавьте возможность взятия раздости (вычитания через оператор вычитания) для дробей. Предполагается, что операция вычитания может проводиться как только для двух дробей, так и для дроби и целого числа. Результат оперции должен быть представлен в виде дроби.\n",
    "4. Добавьте возможность умножения (умножения через оператор умножения) для дробей. Предполагается, что операция умножения может проводиться как только для двух дробей, так и для дроби и целого числа. Результат оперции должен быть представлен в виде дроби.\n",
    "5. Добавьте возможность приведения дроби к целому числу через стандартную функцию `int()`.\n",
    "6. Добавьте возможность приведения дроби к числу с плавающей точкой через стандартную функцию `float()`.\n",
    "7. Создайте дочерний класс `OperationsOnFraction` и добавьте туда собственные методы `getint` и `getfloat`, которые будут возвращять целую часть дроби и представление дроби в виде числа с плавающей точкой соответственно. \n",
    " "
   ]
  },
  {
   "cell_type": "code",
   "execution_count": 14,
   "metadata": {},
   "outputs": [],
   "source": [
    "class Fraction:\n",
    "    \"\"\"Class of fraction consist of numerator a and denominator b(which is 1 by default)\"\"\"\n",
    "\n",
    "    def __init__(self, numerator_a, denominator_b=1):\n",
    "        # validate numerator and denominator\n",
    "        try:\n",
    "            numerator_a = int(numerator_a)\n",
    "        except ValueError:\n",
    "            print(f'Numerator {numerator_a} is not an integer!')\n",
    "            raise\n",
    "\n",
    "        try:\n",
    "            denominator_b = int(denominator_b)\n",
    "        except ValueError:\n",
    "            print(f'Denominator {denominator_b} is not an integer!')\n",
    "            raise\n",
    "\n",
    "        self.numerator_a = numerator_a\n",
    "        self.denominator_b = denominator_b\n",
    "        self.fraction = str(numerator_a) + '/' + str(denominator_b)\n",
    "\n",
    "    def __str__(self):\n",
    "        return f'{self.__class__.__name__} {self.fraction}'\n",
    "\n",
    "    def least_common_multiple_func(self, other_denominator) -> int:\n",
    "        \"\"\"The least common multiple defining\"\"\"\n",
    "        least_common_mult = self.denominator_b\n",
    "        while (least_common_mult % self.denominator_b + least_common_mult % other_denominator) != 0:\n",
    "            least_common_mult += 1\n",
    "        return least_common_mult\n",
    "\n",
    "    def common_divisor(self, numerator_a, denominator_b) -> [None, int]:\n",
    "        \"\"\"A common divisor defining\"\"\"\n",
    "        divisors = []\n",
    "        for divisor in range(2, max(numerator_a, denominator_b)):\n",
    "            if max(numerator_a, denominator_b) % divisor == 0:\n",
    "                divisors.append(divisor)\n",
    "        for divisor in range(2, min(numerator_a, denominator_b)):\n",
    "            if min(numerator_a, denominator_b) % divisor == 0:\n",
    "                if divisor in divisors:\n",
    "                    return divisor\n",
    "        return None\n",
    "\n",
    "    def __add__(self, other) -> object:\n",
    "        \"\"\"Addition of two fractions\"\"\"\n",
    "        least_common_multiple = self.denominator_b\n",
    "        # check denominators of fractions and if no define their least common multiple\n",
    "        if self.denominator_b != other.denominator_b:\n",
    "            least_common_multiple = self.least_common_multiple_func(other.denominator_b)\n",
    "\n",
    "        common_numerator = (least_common_multiple / self.denominator_b * self.numerator_a) + \\\n",
    "                           (least_common_multiple / other.denominator_b * other.numerator_a)\n",
    "\n",
    "        # check for common divisor\n",
    "        common_divisor = self.common_divisor(int(common_numerator), least_common_multiple)\n",
    "        if common_divisor is None:\n",
    "            res = Fraction(common_numerator, least_common_multiple)\n",
    "        else:\n",
    "            common_numerator = common_numerator / common_divisor\n",
    "            least_common_multiple = least_common_multiple / common_divisor\n",
    "            res = Fraction(common_numerator, int(least_common_multiple))\n",
    "        return res\n",
    "\n",
    "    def __sub__(self, other) -> object:\n",
    "        \"\"\"Substitution of two fractions\"\"\"\n",
    "        least_common_multiple = self.denominator_b\n",
    "        # check denominators of fractions and if no define their least common multiple\n",
    "        if self.denominator_b != other.denominator_b:\n",
    "            least_common_multiple = self.least_common_multiple_func(other.denominator_b)\n",
    "\n",
    "        common_numerator = (least_common_multiple / self.denominator_b * self.numerator_a) - \\\n",
    "                           (least_common_multiple / other.denominator_b * other.numerator_a)\n",
    "\n",
    "        # check for common divisor\n",
    "        common_divisor = self.common_divisor(int(common_numerator), least_common_multiple)\n",
    "        if common_divisor is None:\n",
    "            res = Fraction(common_numerator, least_common_multiple)\n",
    "        else:\n",
    "            common_numerator = common_numerator / common_divisor\n",
    "            least_common_multiple = least_common_multiple / common_divisor\n",
    "            res = Fraction(common_numerator, int(least_common_multiple))\n",
    "        return res\n",
    "\n",
    "    def __mul__(self, other) -> object:\n",
    "        \"\"\"Multiplication of two fractions\"\"\"\n",
    "        common_numerator = self.numerator_a * other.numerator_a\n",
    "        common_denominator = self.denominator_b * other.denominator_b\n",
    "\n",
    "        # check for common divisor\n",
    "        common_divisor = self.common_divisor(int(common_numerator), common_denominator)\n",
    "        if common_divisor is None:\n",
    "            res = Fraction(common_numerator, common_denominator)\n",
    "        else:\n",
    "            common_numerator = common_numerator / common_divisor\n",
    "            common_denominator = common_denominator / common_divisor\n",
    "            res = Fraction(common_numerator, int(common_denominator))\n",
    "        return res\n",
    "\n",
    "    def __int__(self) -> int:\n",
    "        \"\"\"Returns int number from fraction\"\"\"\n",
    "        integer_number = self.numerator_a // self.denominator_b\n",
    "        print(f'Fraction {self.fraction} integer number is {integer_number}')\n",
    "        return integer_number\n",
    "\n",
    "    def __float__(self) -> float:\n",
    "        \"\"\"Returns float number from fraction\"\"\"\n",
    "        float_number = self.numerator_a / self.denominator_b\n",
    "        print(f'Fraction {self.fraction} float number is {float_number}')\n",
    "        return float_number\n",
    "\n",
    "\n",
    "class OperationsOnFraction(Fraction):\n",
    "    \"\"\"Converting fractions to int and float types\"\"\"\n",
    "    def __init__(self, numerator_a=0, denominator_b=0):\n",
    "        super().__init__(numerator_a=numerator_a, denominator_b=denominator_b)\n",
    "\n",
    "    def getint(self, fraction) -> int:\n",
    "        \"\"\"Returns int number from fraction based on base class __int__() method\"\"\"\n",
    "        self.numerator_a = fraction.numerator_a\n",
    "        self.denominator_b = fraction.denominator_b\n",
    "        self.fraction = str(self.numerator_a) + '/' + str(self.denominator_b)\n",
    "        return super().__int__()\n",
    "\n",
    "\n",
    "    def getfloat(self, fraction) -> float:\n",
    "        \"\"\"Returns float number from fraction based on base class __float__() method\"\"\"\n",
    "        self.numerator_a = fraction.numerator_a\n",
    "        self.denominator_b = fraction.denominator_b\n",
    "        self.fraction = str(self.numerator_a) + '/' + str(self.denominator_b)\n",
    "        return super().__float__()\n"
   ]
  }
 ],
 "metadata": {
  "kernelspec": {
   "display_name": "Python 3",
   "language": "python",
   "name": "python3"
  },
  "language_info": {
   "codemirror_mode": {
    "name": "ipython",
    "version": 3
   },
   "file_extension": ".py",
   "mimetype": "text/x-python",
   "name": "python",
   "nbconvert_exporter": "python",
   "pygments_lexer": "ipython3",
   "version": "3.7.4"
  }
 },
 "nbformat": 4,
 "nbformat_minor": 2
}
