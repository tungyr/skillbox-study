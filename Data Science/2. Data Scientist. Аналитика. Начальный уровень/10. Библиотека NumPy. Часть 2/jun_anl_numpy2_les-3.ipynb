{
 "cells": [
  {
   "cell_type": "markdown",
   "metadata": {},
   "source": [
    "### Урок 4.3: создание новых списков на основе старых"
   ]
  },
  {
   "cell_type": "code",
   "execution_count": 1,
   "metadata": {},
   "outputs": [],
   "source": [
    "import numpy as np"
   ]
  },
  {
   "cell_type": "markdown",
   "metadata": {},
   "source": [
    "Создадим небольшой массив со значениями дохода двух групп людей:"
   ]
  },
  {
   "cell_type": "code",
   "execution_count": 2,
   "metadata": {},
   "outputs": [],
   "source": [
    "income = np.array([[20000, 30000, 25000, 700000],\n",
    "                  [23000, 35000, 20000, 32000]])"
   ]
  },
  {
   "cell_type": "markdown",
   "metadata": {},
   "source": [
    "Теперь представим, что нам нужно получить массив с логарифмированными значениями дохода (так часто делают, потому что при переходе к логарифмам разброс значений в списке снижается, но природа данных не меняется). Сделать это довольно просто: мы уже обсуждали, как использовать функцию `np.log()` для нахождения натурального логарифма числа, а теперь применим её сразу ко всему массиву:"
   ]
  },
  {
   "cell_type": "code",
   "execution_count": 3,
   "metadata": {},
   "outputs": [
    {
     "data": {
      "text/plain": [
       "array([[ 9.90348755, 10.30895266, 10.1266311 , 13.45883561],\n",
       "       [10.04324949, 10.46310334,  9.90348755, 10.37349118]])"
      ]
     },
     "execution_count": 3,
     "metadata": {},
     "output_type": "execute_result"
    }
   ],
   "source": [
    "np.log(income)  # готово"
   ]
  },
  {
   "cell_type": "markdown",
   "metadata": {},
   "source": [
    "Теперь давайте немного поговорим о логарифмировании. Преобразование исходной шкалы измерения к логарифмической (здесь мы привели значения дохода в рублях к их натуральным логарифмам) часто используется для визуализации и анализа данных. Давайте сравним два графика. На обоих графиках по горизонтальной оси будет идти номер наблюдения (номер человека в массиве `income`, восемь человек – целые значения от 0 до 7), а по вертикальной оси на первом графике будут идти исходные значения дохода, а на втором – логарифмированные.\n",
    "\n",
    "Мы пока не обсуждали графику в Python, далее у вас будет целый модуль, посвящённый визуализиации с помощью `matplotlib`, но, тем не менее, давайте построим графики с помощью этой библиотеки, не вдаваясь в детали кода."
   ]
  },
  {
   "cell_type": "code",
   "execution_count": 4,
   "metadata": {},
   "outputs": [
    {
     "data": {
      "text/plain": [
       "[<matplotlib.lines.Line2D at 0x10acd07b8>]"
      ]
     },
     "execution_count": 4,
     "metadata": {},
     "output_type": "execute_result"
    },
    {
     "data": {
      "image/png": "[encoded data removed]",
      "text/plain": [
       "<Figure size 432x288 with 1 Axes>"
      ]
     },
     "metadata": {},
     "output_type": "display_data"
    }
   ],
   "source": [
    "%matplotlib inline\n",
    "from matplotlib import pyplot as plt\n",
    "plt.plot(np.arange(8), income.flatten(), 'bo')"
   ]
  },
  {
   "cell_type": "markdown",
   "metadata": {},
   "source": [
    "*Краткие комментарии по коду:*\n",
    "\n",
    "* `%matplotlib inline` – магическая строка (это официальное название, *magic line*), которая сообщает Jupyter, что график должен быть построен прямо в этом ipynb-файле, не в отдельном окне, и отображён явно, сразу после ячейки с кодом;\n",
    "\n",
    "* во второй строке из библиотеки `matplotlib` мы импортируем модуль `pyplot` с сокращённым названием `plt`;\n",
    "\n",
    "* в функции `plot()` мы сначала указываем значения по оси `x` (номер наблюдения в нашем случае, сгенерированный с помощью `arange()`), а затем – значения по оси `y` (значения дохода, которые мы превратили в «плоский» массив);\n",
    "\n",
    "* опция `bo` отвечает за цвет и тип маркера для точек: `b` – от *blue*, синие точки, `o` – круглые точки."
   ]
  },
  {
   "cell_type": "markdown",
   "metadata": {},
   "source": [
    "Аналогичным образом построим график для логарифмированных значений дохода:"
   ]
  },
  {
   "cell_type": "code",
   "execution_count": 5,
   "metadata": {},
   "outputs": [
    {
     "data": {
      "text/plain": [
       "[<matplotlib.lines.Line2D at 0x10ad70860>]"
      ]
     },
     "execution_count": 5,
     "metadata": {},
     "output_type": "execute_result"
    },
    {
     "data": {
      "image/png": "[encoded data removed]",
      "text/plain": [
       "<Figure size 432x288 with 1 Axes>"
      ]
     },
     "metadata": {},
     "output_type": "display_data"
    }
   ],
   "source": [
    "plt.plot(np.arange(8), np.log(income).flatten(), 'bo')"
   ]
  },
  {
   "cell_type": "markdown",
   "metadata": {},
   "source": [
    "По первому графику сложно делать какие-то выводы. Из-за того, что одна точка сильно отличается от остальных, картинка получается очень растянутой, и кажется, что все значения дохода, кроме самого большого, находятся примерно на одном уровне – менее 100 тысяч. Это, конечно, правда, все значения в `income`, кроме одного, менее 100 тысяч, но понять, насколько сильно одно значение отличается от другого, по такому графику сложновато. На втором графике картина меняется: теперь разница между значениями дохода более заметна. Например, по графику чётко видно, что доход второго человека в массиве выше, чем у первого, но ниже, чем у третьего, доходы третьего и пятого человека совпадают, и так далее. При этом важно, что при логарифмировании порядок значений, «природа» данных сохранилась: что в исходном массиве `income` минимальная заработная плата была у шестого человека, а максимальная – у четвёртого, то осталось и в новом массиве."
   ]
  },
  {
   "cell_type": "markdown",
   "metadata": {},
   "source": [
    "От содержательных аспектов визуализации и анализа данных давайте вернёмся к техническим и посмотрим, как создавать новые списки на основе старых. Причём сейчас речь пойдёт именно о списках Python, о структуре данных, которая называется *list* (иногда слова «список» и массив в программировании отождествляют, но сейчас мы поговорим о списке в узком смысле). Допустим, у нас есть список, и мы хотим возвести его значения в квадрат: "
   ]
  },
  {
   "cell_type": "code",
   "execution_count": 7,
   "metadata": {},
   "outputs": [
    {
     "ename": "TypeError",
     "evalue": "unsupported operand type(s) for ** or pow(): 'list' and 'int'",
     "output_type": "error",
     "traceback": [
      "\u001b[0;31m---------------------------------------------------------------------------\u001b[0m",
      "\u001b[0;31mTypeError\u001b[0m                                 Traceback (most recent call last)",
      "\u001b[0;32m<ipython-input-7-f9037b06cf8d>\u001b[0m in \u001b[0;36m<module>\u001b[0;34m()\u001b[0m\n\u001b[1;32m      1\u001b[0m \u001b[0mL\u001b[0m \u001b[0;34m=\u001b[0m \u001b[0;34m[\u001b[0m\u001b[0;36m2\u001b[0m\u001b[0;34m,\u001b[0m \u001b[0;36m6\u001b[0m\u001b[0;34m,\u001b[0m \u001b[0;36m7\u001b[0m\u001b[0;34m,\u001b[0m \u001b[0;36m1\u001b[0m\u001b[0;34m]\u001b[0m\u001b[0;34m\u001b[0m\u001b[0m\n\u001b[0;32m----> 2\u001b[0;31m \u001b[0mL\u001b[0m \u001b[0;34m**\u001b[0m \u001b[0;36m2\u001b[0m \u001b[0;31m# не получается\u001b[0m\u001b[0;34m\u001b[0m\u001b[0m\n\u001b[0m",
      "\u001b[0;31mTypeError\u001b[0m: unsupported operand type(s) for ** or pow(): 'list' and 'int'"
     ]
    }
   ],
   "source": [
    "L = [2, 6, 7, 1]\n",
    "L ** 2 # не получается"
   ]
  },
  {
   "cell_type": "markdown",
   "metadata": {},
   "source": [
    "Ничего не получилось. Как быть? В таких случаях нам пригодятся специальные конструкции – генераторы списков или списковые включения (*list comprehensions*). Давайте сначала запишем код, а потом разберём его по частям."
   ]
  },
  {
   "cell_type": "code",
   "execution_count": 8,
   "metadata": {},
   "outputs": [
    {
     "data": {
      "text/plain": [
       "[4, 36, 49, 1]"
      ]
     },
     "execution_count": 8,
     "metadata": {},
     "output_type": "execute_result"
    }
   ],
   "source": [
    "L_sq = [i ** 2 for i in L]\n",
    "L_sq"
   ]
  },
  {
   "cell_type": "markdown",
   "metadata": {},
   "source": [
    "Для тех, кто знаком с циклами, строка кода выше могла показаться знакомой. Действительно, в этой задаче мы как раз сталкиваемся с необходимостью выполнять повторяющиеся действия – возводить в квадрат каждый элемент списка `L` по очереди. Как устроена приведённая выше конструкция?\n",
    "\n",
    "* Часть `i ** 2`: каким-то образом мы обозначаем элемент списка, с которым мы будем работать (список, по которому мы будем «бегать», переходя от одного элемента к другому), и указываем, какое действие с этим элементом надо сделать; здесь мы назвали  элемент `i` и сообщили, что его нужно будет возводить в квадрат.\n",
    "\n",
    "* Часть `for i in L`: указываем, по какому списку мы будем «бегать», переходя от одного элемента к другому, чтобы достичь цели – возвести все элементы интересующего нас списка в квадрат; расшифровывается как «для каждого элемента `i` в списке `L`сделай что-то».\n",
    "\n",
    "* Обе части вместе: сначала указываем, что с элементом старого списка нужно сделать, потом – с каким списком мы работаем; затем, так как результат выполнения операций – новый список, заключаем всю конструкцию в квадратные скобки.\n",
    "\n",
    "Давайте для закрепления рассмотрим ещё несколько примеров."
   ]
  },
  {
   "cell_type": "code",
   "execution_count": 9,
   "metadata": {},
   "outputs": [
    {
     "data": {
      "text/plain": [
       "[0.6931471805599453, 1.791759469228055, 1.9459101490553132, 0.0]"
      ]
     },
     "execution_count": 9,
     "metadata": {},
     "output_type": "execute_result"
    }
   ],
   "source": [
    "L_log = [np.log(num) for num in L ]\n",
    "L_log"
   ]
  },
  {
   "cell_type": "code",
   "execution_count": 10,
   "metadata": {},
   "outputs": [
    {
     "data": {
      "text/plain": [
       "[1.4142135623730951, 2.449489742783178, 2.6457513110645907, 1.0]"
      ]
     },
     "execution_count": 10,
     "metadata": {},
     "output_type": "execute_result"
    }
   ],
   "source": [
    "L_sqrt = [np.sqrt(j) for j in L]\n",
    "L_sqrt"
   ]
  }
 ],
 "metadata": {
  "kernelspec": {
   "display_name": "Python 3",
   "language": "python",
   "name": "python3"
  },
  "language_info": {
   "codemirror_mode": {
    "name": "ipython",
    "version": 3
   },
   "file_extension": ".py",
   "mimetype": "text/x-python",
   "name": "python",
   "nbconvert_exporter": "python",
   "pygments_lexer": "ipython3",
   "version": "3.7.4"
  }
 },
 "nbformat": 4,
 "nbformat_minor": 2
}
