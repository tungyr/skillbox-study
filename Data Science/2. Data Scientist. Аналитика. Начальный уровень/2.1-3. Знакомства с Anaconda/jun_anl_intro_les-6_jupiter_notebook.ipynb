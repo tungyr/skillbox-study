{
 "cells": [
  {
   "cell_type": "markdown",
   "metadata": {},
   "source": [
    "# Введение в Python – 1\n",
    "\n",
    "*Алла Тамбовцева, НИУ ВШЭ*"
   ]
  },
  {
   "cell_type": "markdown",
   "metadata": {},
   "source": [
    "## Знакомство с Jupyter Notebook"
   ]
  },
  {
   "cell_type": "markdown",
   "metadata": {},
   "source": [
    "Jupyter Notebook чем-то похож на текстовый редактор: есть меню, панель инструментов и поле для работы – ячейки (*cells*). Ячейки могут содержать как код, так и текст, неразмеченный и размеченный (размеченный текст – текст с оформлением). К коду в ячейках можно добавлять комментарии. Комментарии должны начинаться со знака `#`. \n",
    "\n",
    "Пример ячейки с кодом:"
   ]
  },
  {
   "cell_type": "code",
   "execution_count": 1,
   "metadata": {},
   "outputs": [
    {
     "name": "stdout",
     "output_type": "stream",
     "text": [
      "3 0.2\n"
     ]
    }
   ],
   "source": [
    "3 + 2 # calculations\n",
    "\n",
    "# comment 1\n",
    "# comment 2"
   ]
  },
  {
   "cell_type": "markdown",
   "metadata": {},
   "source": [
    "По умолчанию тип ячейки *Code*, это можно увидеть на панели под меню. Чтобы изменить тип ячейки, нужно нажать на стрелочку вниз и выбрать нужный вариант. Всего вариантов четыре: *Code*, *Markdown*, *RawNBConvert* и *Heading*.\n",
    "\n",
    "* *Code*: ячейка с кодом Python;\n",
    "* *Markdown*: ячейка с размеченным текстом, язык разметки Markdown;\n",
    "* *RawNBConvert*: неразмеченный (сырой) текст, без курсива/полужирного шрифта;\n",
    "* *Heading*: устарел, раньше использовался для заголовков, сейчас их нужно создавать в режиме *Markdown*."
   ]
  },
  {
   "cell_type": "markdown",
   "metadata": {},
   "source": [
    "### Что можно делать с помощью Markdown?"
   ]
  },
  {
   "cell_type": "markdown",
   "metadata": {},
   "source": [
    "Выделять заголовки разных уровней."
   ]
  },
  {
   "cell_type": "markdown",
   "metadata": {},
   "source": [
    "# Header 1\n",
    "## Header 2"
   ]
  },
  {
   "cell_type": "markdown",
   "metadata": {},
   "source": [
    "Исходная разметка Markdown:\n",
    "\n",
    "```\n",
    "# Header 1\n",
    "## Header 2\n",
    "```"
   ]
  },
  {
   "cell_type": "markdown",
   "metadata": {},
   "source": [
    "Выделять части текста с помощью *курсива* или **полужирного начертания**. Исходная разметка:\n",
    "```\n",
    "Выделять части текста с помощью *курсива* или **полужирного начертания**. \n",
    "\n",
    "```"
   ]
  },
  {
   "cell_type": "markdown",
   "metadata": {},
   "source": [
    "Добавлять списки разного вида. Ненумерованный список:\n",
    "\n",
    "* point 1\n",
    "* point 2\n",
    "\n",
    "Нумерованный список:\n",
    "\n",
    "1. point 1\n",
    "2. point 2\n",
    "4. point 3"
   ]
  },
  {
   "cell_type": "markdown",
   "metadata": {},
   "source": [
    "Исходная разметка для списков:\n",
    "    \n",
    "```\n",
    "Ненумерованный список:\n",
    "\n",
    "* point 1 \n",
    "* point 2\n",
    "\n",
    "Нумерованный список:\n",
    "\n",
    "1. point 1\n",
    "2. point 2\n",
    "4. point 3\n",
    "```"
   ]
  },
  {
   "cell_type": "markdown",
   "metadata": {},
   "source": [
    "Для тех, кто знаком с издательской системой $\\LaTeX{}$: можно красиво оформлять формулы, используя синтаксис, принятый в $\\LaTeX{}$ (наличие установленного на компьютере дистрибутива LaTeX не требуется, текст компилируется в самом Jupyter Notebook):\n",
    "\n",
    "$$\n",
    "y_i = \\beta_0 + \\beta_1 \\cdot x_i\n",
    "$$\n",
    "\n",
    "\n",
    "Код LaTeX:\n",
    "\n",
    "```\n",
    "\n",
    "$$\n",
    "y_i = \\beta_0 + \\beta_1 \\cdot x_i\n",
    "$$\n",
    "\n",
    "```"
   ]
  },
  {
   "cell_type": "markdown",
   "metadata": {},
   "source": [
    "Еще можно добавлять ссылки. Текст ссылки и саму ссылку:"
   ]
  },
  {
   "cell_type": "markdown",
   "metadata": {},
   "source": [
    "[Jupyter](http://jupyter.org/)\n",
    "\n",
    "Исходник:\n",
    "\n",
    "```\n",
    "[Jupyter](http://jupyter.org/)\n",
    "```"
   ]
  },
  {
   "cell_type": "markdown",
   "metadata": {},
   "source": [
    "Либо просто ссылку как есть:"
   ]
  },
  {
   "cell_type": "markdown",
   "metadata": {},
   "source": [
    "<http://jupyter.org/>\n",
    "\n",
    "Исходник:\n",
    "\n",
    "```\n",
    "<http://jupyter.org/>\n",
    "```"
   ]
  },
  {
   "cell_type": "markdown",
   "metadata": {},
   "source": [
    "И, конечно, можно добавлять картинки! Добавим картинку из файла `test.png` (она лежит в той же папке, что и файл `.ipynb`):"
   ]
  },
  {
   "cell_type": "markdown",
   "metadata": {},
   "source": [
    "    \n",
    "![title](test.png)   \n",
    "\n",
    "Исходник:\n",
    "\n",
    "```\n",
    "![title](test.png)   \n",
    "```"
   ]
  },
  {
   "cell_type": "markdown",
   "metadata": {},
   "source": [
    "### Горячие клавиши"
   ]
  },
  {
   "cell_type": "markdown",
   "metadata": {},
   "source": [
    "В Jupyter Notebook есть свои горячие клавиши, которые позволяют добавлять или удалять ячейки, менять их тип и так далее. Чтобы работать в режиме горячих клавиш, нужно выйти из редактирования ячейки (нажать на *Esc*), а потом набрать нужную комбинацию клавиш. Чтобы вернуться в режим редактирования ячейки, можно кликнуть на неё два раза или, выбрав её, нажать *Enter*. Все полезные комбинации клавиш можно найти в меню (*Help - Keyboard Shortcuts*) или нажав *Esc*, а потом *H* или *P*."
   ]
  }
 ],
 "metadata": {
  "kernelspec": {
   "display_name": "Python 3",
   "language": "python",
   "name": "python3"
  },
  "language_info": {
   "codemirror_mode": {
    "name": "ipython",
    "version": 3
   },
   "file_extension": ".py",
   "mimetype": "text/x-python",
   "name": "python",
   "nbconvert_exporter": "python",
   "pygments_lexer": "ipython3",
   "version": "3.6.5"
  }
 },
 "nbformat": 4,
 "nbformat_minor": 2
}
