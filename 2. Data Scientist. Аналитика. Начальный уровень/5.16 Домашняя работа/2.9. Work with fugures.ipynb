{
 "cells": [
  {
   "cell_type": "markdown",
   "metadata": {
    "colab_type": "text",
    "id": "X9wfb-pqPzYu"
   },
   "source": [
    "# Циклы и условия\n",
    "\n",
    "## Домашняя работа\n",
    "Эта домашняя работа должна быть решена **БЕЗ** использования готовых функций (если именно они \"решают\" задачу) и сторонних библиотек. Используйте циклы и условия."
   ]
  },
  {
   "cell_type": "markdown",
   "metadata": {
    "colab_type": "text",
    "id": "DMpu8uUoPzY0"
   },
   "source": [
    "## 1\n",
    "\n",
    "Напишите программу, которая будет запрашивать на вход числа (через запятую на одной строке) и выводить наибольшее значение из списка.\n",
    "<br><br>\n",
    "*Ограничение: нельзя пользоваться готовой функцией для нахождения максимума (например, `max()`), готовыми функциями и методами сортировки (например, `sort()`,`sorted()`).*"
   ]
  },
  {
   "cell_type": "code",
   "execution_count": 0,
   "metadata": {
    "colab": {},
    "colab_type": "code",
    "id": "dHs34-p-PzY3"
   },
   "outputs": [],
   "source": [
    "### YOUR CODE HERE ###\n",
    "\n"
   ]
  },
  {
   "cell_type": "markdown",
   "metadata": {
    "colab_type": "text",
    "id": "sCF9Hd9rPzZD"
   },
   "source": [
    "### 2\n",
    "\n",
    "Напишите программу, которая будет запрашивать на вход числа (каждое с новой строки) до тех пор, пока не будет введен ноль (0). На выход должно выводиться второе по величине значение.\n",
    "<br><br>\n",
    "*Ограничение: нельзя пользоваться готовой функцией для нахождения максимума (например, `max()`), готовыми функциями и методами сортировки (например, `sort()`,`sorted()`).*"
   ]
  },
  {
   "cell_type": "code",
   "execution_count": 0,
   "metadata": {
    "colab": {},
    "colab_type": "code",
    "id": "yrJk-mEjPzZF"
   },
   "outputs": [],
   "source": [
    "### YOUR CODE HERE ###\n",
    "\n"
   ]
  },
  {
   "cell_type": "markdown",
   "metadata": {
    "colab_type": "text",
    "id": "fdJZMUtGPzZN"
   },
   "source": [
    "### 3\n",
    "\n",
    "Напишите программу, которая принимает на вход год, а на выход выдает количество дней в этом году."
   ]
  },
  {
   "cell_type": "code",
   "execution_count": 0,
   "metadata": {
    "colab": {},
    "colab_type": "code",
    "id": "Dk6PDx-jPzZP"
   },
   "outputs": [],
   "source": [
    "### YOUR CODE HERE ###\n",
    "\n"
   ]
  },
  {
   "cell_type": "markdown",
   "metadata": {
    "colab_type": "text",
    "id": "wFGBh0dYPzZV"
   },
   "source": [
    "### 4\n",
    "\n",
    "Напишите программу, которая на вход получает координаты двух клеток шахматной доски и выводит соощение о том, являются ли эти клетки одного цвета."
   ]
  },
  {
   "cell_type": "code",
   "execution_count": 0,
   "metadata": {
    "colab": {},
    "colab_type": "code",
    "id": "k-8POcqGPzZW"
   },
   "outputs": [],
   "source": [
    "### YOUR CODE HERE ###\n",
    "\n"
   ]
  },
  {
   "cell_type": "markdown",
   "metadata": {
    "colab_type": "text",
    "id": "O594rz0tPzZb"
   },
   "source": [
    "### 5\n",
    "\n",
    "Напишите программу, которая на вход получает число, а на выходе сообщает, простое это число или составное."
   ]
  },
  {
   "cell_type": "code",
   "execution_count": 0,
   "metadata": {
    "colab": {},
    "colab_type": "code",
    "id": "-Oy1AesyPzZd"
   },
   "outputs": [],
   "source": [
    "### YOUR CODE HERE ###\n",
    "\n"
   ]
  },
  {
   "cell_type": "markdown",
   "metadata": {
    "colab_type": "text",
    "id": "QzBAQaW8PzZg"
   },
   "source": [
    "### 6\n",
    "\n",
    "Напишите программу, которая на вход получает целое число больше 2 и выводит по нему его наименьший натуральный делитель, отличный от 1."
   ]
  },
  {
   "cell_type": "code",
   "execution_count": 0,
   "metadata": {
    "colab": {},
    "colab_type": "code",
    "id": "Z2QzgAYKPzZi"
   },
   "outputs": [],
   "source": [
    "### YOUR CODE HERE ###\n",
    "\n"
   ]
  },
  {
   "cell_type": "markdown",
   "metadata": {
    "colab_type": "text",
    "id": "Mdg_IAfFPzZk"
   },
   "source": [
    "### 7\n",
    "\n",
    "Напишите программу, которая поможет составить план тренировок для подготовки к марафону. Она получает на вход число километров на планируемом марафоне, сколько пользователь планирует пробежать в первый день тренировок и на сколько процентов планирует увеличивать каждый день это расстояние. На выходе программа должна выдавать, сколько дней пользователю потребуется для того, чтобы подготовиться пробежать целевое количество километров.\n",
    "<br><br>\n",
    "*Ограничение: нельзя пользоваться функцией `ceil()` из модуля `math` и ее аналогами.*"
   ]
  },
  {
   "cell_type": "code",
   "execution_count": 0,
   "metadata": {
    "colab": {},
    "colab_type": "code",
    "id": "mXeF6AMWPzZl"
   },
   "outputs": [],
   "source": [
    "### YOUR CODE HERE ###\n",
    "\n"
   ]
  },
  {
   "cell_type": "markdown",
   "metadata": {
    "colab_type": "text",
    "id": "sxKoWpYKPzZo"
   },
   "source": [
    "### 8\n",
    "\n",
    "Напишите программу, которая на вход получает число n и считает по нему сумму 1²+2²+3²+...+n².\n",
    "<br><br>\n",
    "*Ограничение: нельзя пользоваться функцией `sum()` и ее аналогами.*"
   ]
  },
  {
   "cell_type": "code",
   "execution_count": 0,
   "metadata": {
    "colab": {},
    "colab_type": "code",
    "id": "RiPlWLm6PzZp"
   },
   "outputs": [],
   "source": [
    "### YOUR CODE HERE ###\n",
    "\n"
   ]
  },
  {
   "cell_type": "markdown",
   "metadata": {
    "colab_type": "text",
    "id": "aXzG4-wdPzZr"
   },
   "source": [
    "## 9\n",
    "\n",
    "Напишите программу, которая на вход получает число n и считает по нему сумму сумму 1! + 2! + 3! + ... + n!\n",
    "<br><br>\n",
    "*Ограничение: нельзя пользоваться готовой функцией `factorial()` из модуля `math`, функцией `sum()` и их аналогами.*"
   ]
  },
  {
   "cell_type": "code",
   "execution_count": 0,
   "metadata": {
    "colab": {},
    "colab_type": "code",
    "id": "KBEXUEDQPzZs"
   },
   "outputs": [],
   "source": [
    "### YOUR CODE HERE ###\n",
    "\n"
   ]
  },
  {
   "cell_type": "markdown",
   "metadata": {
    "colab_type": "text",
    "id": "4nsOuiWVPzZu"
   },
   "source": [
    "### 10\n",
    "\n",
    "Напишите программу, которая получает на вход последовательность чисел (каждое число с новой строки до того момента, пока пользователь не введет 0) и считает количество четных элементов в последовательности."
   ]
  },
  {
   "cell_type": "code",
   "execution_count": 0,
   "metadata": {
    "colab": {},
    "colab_type": "code",
    "id": "xktF2cocPzZv"
   },
   "outputs": [],
   "source": [
    "### YOUR CODE HERE ###\n",
    "\n"
   ]
  },
  {
   "cell_type": "markdown",
   "metadata": {
    "colab_type": "text",
    "id": "hyC9QGXPPzZx"
   },
   "source": [
    "### 11\n",
    "\n",
    "Напишите программу, которая формирует список игроков женской команды по футболу. Программа должна записывать возраст и пол претендента. Возраст должен запрашиваться после пола и только в том случае, если пол претендента женский. Если пол претендента мужской, программа должна сообщать о том, что он не подходит. Возраст претенденток должен быть от 18 до 35 лет. Если кандидат удовлетворяет требованиям, должно появляться соответствующее сообщение."
   ]
  },
  {
   "cell_type": "code",
   "execution_count": 0,
   "metadata": {
    "colab": {},
    "colab_type": "code",
    "id": "qSDK-zQ4PzZx"
   },
   "outputs": [],
   "source": [
    "### YOUR CODE HERE ###\n",
    "\n"
   ]
  },
  {
   "cell_type": "markdown",
   "metadata": {
    "colab_type": "text",
    "id": "B4JAB8AqPzZ0"
   },
   "source": [
    "### 12\n",
    "\n",
    "\n",
    "Напишите программу, которая на вход получает максимальную ширину ромба и рисует его. Гарантируется, что входное число всегда нечетное.\n",
    " \n",
    "Пример вывода для числа 5:\n",
    "```  \n",
    "  *\n",
    " ***\n",
    "*****\n",
    " ***\n",
    "  *```"
   ]
  },
  {
   "cell_type": "code",
   "execution_count": 0,
   "metadata": {
    "colab": {},
    "colab_type": "code",
    "id": "WVp7O75oPzZ0"
   },
   "outputs": [],
   "source": [
    "### YOUR CODE HERE ###\n",
    "\n"
   ]
  },
  {
   "cell_type": "markdown",
   "metadata": {
    "colab_type": "text",
    "id": "xrIXWj0yPzZ2"
   },
   "source": [
    "### 13\n",
    "\n",
    "Напишите программу, которая запрашивает у пользователя сторону квадрата и символ, а затем рисует этот символ по диагоналям квадрата. Гарантируется, что входное число всегда нечетное.\n",
    " \n",
    "Пример вывода для числа 5:\n",
    "```\n",
    " \n",
    "#   #\n",
    " # #\n",
    "  #  \n",
    " # #\n",
    "#   #\n",
    "```"
   ]
  },
  {
   "cell_type": "code",
   "execution_count": 1,
   "metadata": {
    "colab": {},
    "colab_type": "code",
    "id": "oUKNB9TaPzZ3",
    "outputId": "47421e19-6d45-4cef-9df8-0d89200499ca"
   },
   "outputs": [],
   "source": [
    "### YOUR CODE HERE ###\n",
    "\n"
   ]
  },
  {
   "cell_type": "markdown",
   "metadata": {
    "colab_type": "text",
    "id": "3GaiPsFYPzZ_"
   },
   "source": [
    "### 14\n",
    "\n",
    "В корзине лежат шары. Если разложить их в кучи по 2, останется один. Если разложить в кучи по 3, останется один. Если разложить в кучи по 4, останется один. Если разложить в кучи по 5, останется один. Если разложить в кучи по 6, останется один. Если разложить в кучи по 7, не будет остатка. Нужно найти минимальное количество шаров, удовлетворяющее условию.  <br>"
   ]
  },
  {
   "cell_type": "code",
   "execution_count": 2,
   "metadata": {
    "colab": {
     "base_uri": "https://localhost:8080/",
     "height": 32
    },
    "colab_type": "code",
    "executionInfo": {
     "elapsed": 1380,
     "status": "ok",
     "timestamp": 1571844968537,
     "user": {
      "displayName": "Анастасия Рогачевская",
      "photoUrl": "https://lh3.googleusercontent.com/a-/AAuE7mB92snW1RMZTGvFBrPMpd_BzLIeP2XnbSZ3ZNVFUQ=s64",
      "userId": "07714489023974728369"
     },
     "user_tz": -180
    },
    "id": "V2msEhQkPzZ_",
    "outputId": "c36c996d-347b-430f-f53e-65e37eb23108"
   },
   "outputs": [],
   "source": [
    "### YOUR CODE HERE ###\n",
    "\n"
   ]
  },
  {
   "cell_type": "markdown",
   "metadata": {
    "colab_type": "text",
    "id": "5pOjlON-PzaC"
   },
   "source": [
    "### 15\n",
    "\n",
    "Рабочие клеили обои на стены. Первую стену поклеили за M минут, а каждую следующую на 5 минут больше, чем предыдущую.\n",
    "Напишите программу, которая запрашивает сколько стен было в квартире под поклейку, а также время работы с первой стеной. Программа должна выводить, сколько **часов** рабочие потратили на поклейку обоев во всей квартире. Ответом должно быть целое число.\n",
    "<br><br>\n",
    "*Ограничение: нельзя пользоваться готовыми функциями `bool()`, `floor()` и их аналогами.*"
   ]
  },
  {
   "cell_type": "code",
   "execution_count": 0,
   "metadata": {
    "colab": {},
    "colab_type": "code",
    "id": "Pmu96rWGPzaD"
   },
   "outputs": [],
   "source": [
    "### YOUR CODE HERE ###\n",
    "\n"
   ]
  },
  {
   "cell_type": "markdown",
   "metadata": {
    "colab_type": "text",
    "id": "63C6Za3CPzaF"
   },
   "source": [
    "### 16\n",
    "\n",
    "Напишите программу, которая убирает из списка повторяющиеся элементы. Программа должна запрашивать на вход слова, каждое с новой строки, пока пользователь не введет пустую строку. Затем должна выводить список без повторяющихся элементов. \n",
    "<br><br>\n",
    "*Ограничение: нельзя пользоваться готовой функцией `set()` и ее аналогами.*"
   ]
  },
  {
   "cell_type": "code",
   "execution_count": 0,
   "metadata": {
    "colab": {},
    "colab_type": "code",
    "id": "MQ-eDkbAPzaG"
   },
   "outputs": [],
   "source": [
    "### YOUR CODE HERE ###\n",
    "\n"
   ]
  },
  {
   "cell_type": "markdown",
   "metadata": {
    "colab_type": "text",
    "id": "jueSDORaPzaI"
   },
   "source": [
    "### 17\n",
    "\n",
    "Напишите программу, которая выводит число пар одинаковых элементов в списке. Программа должна запрашивать на вход слова, каждое с новой строки, пока пользователь не введет пустую строку. "
   ]
  },
  {
   "cell_type": "code",
   "execution_count": 0,
   "metadata": {
    "colab": {},
    "colab_type": "code",
    "id": "49tbEr3NPzaJ"
   },
   "outputs": [],
   "source": [
    "### YOUR CODE HERE ###\n",
    "\n"
   ]
  },
  {
   "cell_type": "markdown",
   "metadata": {
    "colab_type": "text",
    "id": "yVLcBrD-PzaN"
   },
   "source": [
    "### 18\n",
    "\n",
    "Будем считать, что кубик может иметь неограниченное количество граней (натуральное число). Напишите программу, которая запрашивает, сколько граней имеется у двух разных кубиков. Затем выводит все возможные комбинации результатов бросков двух таких кубиков. "
   ]
  },
  {
   "cell_type": "code",
   "execution_count": 0,
   "metadata": {
    "colab": {},
    "colab_type": "code",
    "id": "7I2va0KwPzaR"
   },
   "outputs": [],
   "source": [
    "### YOUR CODE HERE ###\n",
    "\n"
   ]
  }
 ],
 "metadata": {
  "colab": {
   "name": "jun_anl_loops_and_ifs_СКРИПТ.ipynb",
   "provenance": []
  },
  "kernelspec": {
   "display_name": "Python 3",
   "language": "python",
   "name": "python3"
  },
  "language_info": {
   "codemirror_mode": {
    "name": "ipython",
    "version": 3
   },
   "file_extension": ".py",
   "mimetype": "text/x-python",
   "name": "python",
   "nbconvert_exporter": "python",
   "pygments_lexer": "ipython3",
   "version": "3.7.4"
  }
 },
 "nbformat": 4,
 "nbformat_minor": 1
}
