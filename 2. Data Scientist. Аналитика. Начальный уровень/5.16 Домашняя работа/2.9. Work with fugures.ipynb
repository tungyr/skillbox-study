{
 "cells": [
  {
   "cell_type": "markdown",
   "metadata": {
    "colab_type": "text",
    "id": "X9wfb-pqPzYu"
   },
   "source": [
    "# Циклы и условия\n",
    "\n",
    "## Домашняя работа\n",
    "Эта домашняя работа должна быть решена **БЕЗ** использования готовых функций (если именно они \"решают\" задачу) и сторонних библиотек. Используйте циклы и условия."
   ]
  },
  {
   "cell_type": "markdown",
   "metadata": {
    "colab_type": "text",
    "id": "DMpu8uUoPzY0"
   },
   "source": [
    "## 1\n",
    "\n",
    "Напишите программу, которая будет запрашивать на вход числа (через запятую на одной строке) и выводить наибольшее значение из списка.\n",
    "<br><br>\n",
    "*Ограничение: нельзя пользоваться готовой функцией для нахождения максимума (например, `max()`), готовыми функциями и методами сортировки (например, `sort()`,`sorted()`).*"
   ]
  },
  {
   "cell_type": "code",
   "execution_count": 1,
   "metadata": {
    "colab": {},
    "colab_type": "code",
    "id": "dHs34-p-PzY3"
   },
   "outputs": [
    {
     "name": "stdout",
     "output_type": "stream",
     "text": [
      "Input integers separated by comma (,): 9,2,0,1,2,3,5,7\n",
      "Maximum integer is 9\n"
     ]
    },
    {
     "data": {
      "text/plain": [
       "9"
      ]
     },
     "execution_count": 1,
     "metadata": {},
     "output_type": "execute_result"
    }
   ],
   "source": [
    "def max_value() -> int:\n",
    "    \"\"\"Function for definition maximum value in entered range of integers\"\"\"\n",
    "    integers = input('Input integers separated by comma (,): ')\n",
    "    integers = integers.split(',')  # convert inserted input string to list by .split() method\n",
    "    integers = [int(i) for i in integers]\n",
    "    i_max = integers[0]  # set first item from integers list as biggest integer\n",
    "    for i in integers:\n",
    "        if i > i_max:\n",
    "            i_max = i\n",
    "    print(f'Maximum integer is {i_max}')\n",
    "    return i_max\n",
    "\n",
    "\n",
    "max_value()"
   ]
  },
  {
   "cell_type": "markdown",
   "metadata": {
    "colab_type": "text",
    "id": "sCF9Hd9rPzZD"
   },
   "source": [
    "### 2\n",
    "\n",
    "Напишите программу, которая будет запрашивать на вход числа (каждое с новой строки) до тех пор, пока не будет введен ноль (0). На выход должно выводиться второе по величине значение.\n",
    "<br><br>\n",
    "*Ограничение: нельзя пользоваться готовой функцией для нахождения максимума (например, `max()`), готовыми функциями и методами сортировки (например, `sort()`,`sorted()`).*"
   ]
  },
  {
   "cell_type": "code",
   "execution_count": 2,
   "metadata": {
    "colab": {},
    "colab_type": "code",
    "id": "yrJk-mEjPzZF"
   },
   "outputs": [
    {
     "name": "stdout",
     "output_type": "stream",
     "text": [
      "Input integer, when finish type 0: 5\n",
      "Input integer, when finish type 0: 4\n",
      "Input integer, when finish type 0: 3\n",
      "Input integer, when finish type 0: 9\n",
      "Input integer, when finish type 0: 1\n",
      "Input integer, when finish type 0: 0\n",
      "Received integers are: [5, 4, 3, 9, 1]\n",
      "Second maximum value in sorted list [1, 3, 4, 5, 9] is 5\n"
     ]
    }
   ],
   "source": [
    "def get_integers() -> list:\n",
    "    \"\"\"Function for getting integers from user and pack it in list\"\"\"\n",
    "    gotten_integers = []\n",
    "    while True:\n",
    "        try:\n",
    "            #  check for correct input from user\n",
    "            integer = int(input('Input integer, when finish type 0: '))\n",
    "        except ValueError:\n",
    "            if input('Last item not integer! Complete input? y/n ') == 'n':\n",
    "                continue\n",
    "            else:\n",
    "                break\n",
    "        if integer == 0:\n",
    "            break\n",
    "        gotten_integers.append(integer)\n",
    "    print(f'Received integers are: {gotten_integers}')\n",
    "    return gotten_integers\n",
    "\n",
    "\n",
    "def sort_list(values_list) -> list:\n",
    "    \"\"\"Function for sorting list, returns list without duplicates of values\"\"\"\n",
    "    counter = 0\n",
    "    while counter < len(values_list):\n",
    "        counter = 1\n",
    "        for i in range(len(values_list) - 1):\n",
    "            if values_list.count(values_list[i]) > 1:  # check for duplicates in list\n",
    "                values_list.remove(values_list[i])\n",
    "                break\n",
    "            elif values_list[i] > values_list[i + 1]:  # compare two nearby values\n",
    "                values_list[i], values_list[i + 1] = values_list[i + 1], values_list[i]\n",
    "                counter -= 1\n",
    "            counter += 1\n",
    "    return values_list\n",
    "\n",
    "\n",
    "initial_list = get_integers()  # get list of integers from user\n",
    "sorted_list = sort_list(values_list=initial_list)  # get sorted list\n",
    "print(f'Second maximum value in sorted list {initial_list} is {sorted_list[-2]}')"
   ]
  },
  {
   "cell_type": "markdown",
   "metadata": {
    "colab_type": "text",
    "id": "fdJZMUtGPzZN"
   },
   "source": [
    "### 3\n",
    "\n",
    "Напишите программу, которая принимает на вход год, а на выход выдает количество дней в этом году."
   ]
  },
  {
   "cell_type": "code",
   "execution_count": 3,
   "metadata": {
    "colab": {},
    "colab_type": "code",
    "id": "Dk6PDx-jPzZP"
   },
   "outputs": [
    {
     "name": "stdout",
     "output_type": "stream",
     "text": [
      "Enter a number of year: 2020\n",
      "2020 year is leap year with 366 days in it\n"
     ]
    }
   ],
   "source": [
    "def year_days():\n",
    "    \"\"\"Function calculates quantity days in year\"\"\"\n",
    "    year = int(input('Enter a number of year: '))\n",
    "    if year % 400 == 0:\n",
    "        print(f'{year} year is leap year with 366 days in it')\n",
    "    elif year % 100 == 0:\n",
    "        print(f'{year} year is regular with 365 days in it')\n",
    "    elif year % 4 == 0:\n",
    "        print(f'{year} year is leap year with 366 days in it')\n",
    "    else:\n",
    "        print(f'{year} year is regular with 365 days in it')\n",
    "\n",
    "\n",
    "year_days()"
   ]
  },
  {
   "cell_type": "markdown",
   "metadata": {
    "colab_type": "text",
    "id": "wFGBh0dYPzZV"
   },
   "source": [
    "### 4\n",
    "\n",
    "Напишите программу, которая на вход получает координаты двух клеток шахматной доски и выводит соощение о том, являются ли эти клетки одного цвета."
   ]
  },
  {
   "cell_type": "code",
   "execution_count": 4,
   "metadata": {
    "colab": {},
    "colab_type": "code",
    "id": "k-8POcqGPzZW"
   },
   "outputs": [
    {
     "name": "stdout",
     "output_type": "stream",
     "text": [
      "Enter field (example a1):f4\n",
      "Enter field (example a1):g8\n",
      "Fields are not equal\n"
     ]
    }
   ],
   "source": [
    "# dictionary for decoding field letters to integers\n",
    "chess_letters = {\n",
    "    'a': 1,\n",
    "    'b': 2,\n",
    "    'c': 3,\n",
    "    'd': 4,\n",
    "    'e': 5,\n",
    "    'f': 6,\n",
    "    'g': 7,\n",
    "    'h': 8,\n",
    "}\n",
    "\n",
    "\n",
    "def get_chess_field() -> str:\n",
    "    \"\"\"Function get from user chess field number and check correction of input\"\"\"\n",
    "    while True:\n",
    "        field_number = input('Enter field (example a1):')\n",
    "        letter, digit = field_number[0], field_number[1]\n",
    "        # check for correct order of letters and digits in input\n",
    "        if letter.isalpha() is False or digit.isdigit() is False:\n",
    "            print('Wrong format! Example: a1.')\n",
    "            continue\n",
    "        else:\n",
    "            return field_number\n",
    "\n",
    "\n",
    "def chess_field_color(field) -> str:\n",
    "    \"\"\"Function defines chess field color by it number\"\"\"\n",
    "    # decoding field letter to integer with chess_letters dict\n",
    "    letter_value = chess_letters[field[0]]\n",
    "    if (letter_value + int(field[1])) % 2 == 0:\n",
    "        field_color = 'black'\n",
    "    else:\n",
    "        field_color = 'white'\n",
    "    return field_color\n",
    "\n",
    "\n",
    "field_1 = chess_field_color(get_chess_field())\n",
    "field_2 = chess_field_color(get_chess_field())\n",
    "\n",
    "if field_1 == field_2:\n",
    "    print('Fields are equal')\n",
    "else:\n",
    "    print('Fields are not equal')"
   ]
  },
  {
   "cell_type": "markdown",
   "metadata": {
    "colab_type": "text",
    "id": "O594rz0tPzZb"
   },
   "source": [
    "### 5\n",
    "\n",
    "Напишите программу, которая на вход получает число, а на выходе сообщает, простое это число или составное."
   ]
  },
  {
   "cell_type": "code",
   "execution_count": 8,
   "metadata": {
    "colab": {},
    "colab_type": "code",
    "id": "-Oy1AesyPzZd"
   },
   "outputs": [
    {
     "name": "stdout",
     "output_type": "stream",
     "text": [
      "Enter an integer: 5\n",
      "Inserted integer 5 is natural number.\n"
     ]
    }
   ],
   "source": [
    "def type_of_digit():\n",
    "    \"\"\"Function defines whether entered integer natural or composite\"\"\"\n",
    "    while True:\n",
    "        digit = input('Enter an integer: ')\n",
    "        # check for correct digit in input\n",
    "        if digit.isdigit() is False:\n",
    "            print('Wrong format!.')\n",
    "            continue\n",
    "        else:\n",
    "            digit = int(digit)\n",
    "            break\n",
    "\n",
    "    dividers = list(range(1, digit + 1))\n",
    "    counter = 0\n",
    "    for i in dividers:\n",
    "        if digit % i == 0:\n",
    "            counter += 1\n",
    "\n",
    "    if counter == 2:\n",
    "        print(f'Inserted integer {digit} is natural number.')\n",
    "    else:\n",
    "        print(f'Inserted integer {digit} is composite number.')\n",
    "\n",
    "\n",
    "type_of_digit()"
   ]
  },
  {
   "cell_type": "markdown",
   "metadata": {
    "colab_type": "text",
    "id": "QzBAQaW8PzZg"
   },
   "source": [
    "### 6\n",
    "\n",
    "Напишите программу, которая на вход получает целое число больше 2 и выводит по нему его наименьший натуральный делитель, отличный от 1."
   ]
  },
  {
   "cell_type": "code",
   "execution_count": 9,
   "metadata": {
    "colab": {},
    "colab_type": "code",
    "id": "Z2QzgAYKPzZi"
   },
   "outputs": [
    {
     "name": "stdout",
     "output_type": "stream",
     "text": [
      "Enter integer bigger then 2: 9\n",
      "The least divider for integer 9 is 3\n"
     ]
    },
    {
     "data": {
      "text/plain": [
       "3"
      ]
     },
     "execution_count": 9,
     "metadata": {},
     "output_type": "execute_result"
    }
   ],
   "source": [
    "def the_least_divider() -> int:\n",
    "    \"\"\"Function for calculating the least divider of integer\"\"\"\n",
    "    # check for correct input from user\n",
    "    while True:\n",
    "        number = input('Enter integer bigger then 2: ')\n",
    "        if number.isdigit() is False:\n",
    "            print('Should be digit!')\n",
    "            continue\n",
    "        number = int(number)\n",
    "        if number <= 2:\n",
    "            print('Integer should be bigger then 2!')\n",
    "            continue\n",
    "        else:\n",
    "            least_divider = 0\n",
    "            for i in range(2, int(number)):\n",
    "                if number % i == 0:\n",
    "                    least_divider = i\n",
    "                    if least_divider > 0:\n",
    "                        print(f'The least divider for integer {number} is {least_divider}')\n",
    "                    break\n",
    "            if least_divider == 0:\n",
    "                print(f'There is no the least divider for integer {number}, other then 1')\n",
    "        return least_divider\n",
    "\n",
    "\n",
    "the_least_divider()"
   ]
  },
  {
   "cell_type": "markdown",
   "metadata": {
    "colab_type": "text",
    "id": "Mdg_IAfFPzZk"
   },
   "source": [
    "### 7\n",
    "\n",
    "Напишите программу, которая поможет составить план тренировок для подготовки к марафону. Она получает на вход число километров на планируемом марафоне, сколько пользователь планирует пробежать в первый день тренировок и на сколько процентов планирует увеличивать каждый день это расстояние. На выходе программа должна выдавать, сколько дней пользователю потребуется для того, чтобы подготовиться пробежать целевое количество километров.\n",
    "<br><br>\n",
    "*Ограничение: нельзя пользоваться функцией `ceil()` из модуля `math` и ее аналогами.*"
   ]
  },
  {
   "cell_type": "code",
   "execution_count": 10,
   "metadata": {
    "colab": {},
    "colab_type": "code",
    "id": "mXeF6AMWPzZl"
   },
   "outputs": [
    {
     "name": "stdout",
     "output_type": "stream",
     "text": [
      "Enter marathon distance: 40\n",
      "Enter first day training km: 3\n",
      "Enter percent of daily training increase: 50\n",
      "\n",
      "To run out marathon in 40 km you will need 26 day(s) of training: \n",
      "\n",
      "Plan\n",
      " 1 day -   3 km\n",
      " 2 day - 4.5 km\n",
      " 3 day - 6.0 km\n",
      " 4 day - 7.5 km\n",
      " 5 day - 9.0 km\n",
      " 6 day - 10.5 km\n",
      " 7 day - 12.0 km\n",
      " 8 day - 13.5 km\n",
      " 9 day - 15.0 km\n",
      "10 day - 16.5 km\n",
      "11 day - 18.0 km\n",
      "12 day - 19.5 km\n",
      "13 day - 21.0 km\n",
      "14 day - 22.5 km\n",
      "15 day - 24.0 km\n",
      "16 day - 25.5 km\n",
      "17 day - 27.0 km\n",
      "18 day - 28.5 km\n",
      "19 day - 30.0 km\n",
      "20 day - 31.5 km\n",
      "21 day - 33.0 km\n",
      "22 day - 34.5 km\n",
      "23 day - 36.0 km\n",
      "24 day - 37.5 km\n",
      "25 day - 39.0 km\n",
      "26 day - 40.5 km\n"
     ]
    },
    {
     "data": {
      "text/plain": [
       "26"
      ]
     },
     "execution_count": 10,
     "metadata": {},
     "output_type": "execute_result"
    }
   ],
   "source": [
    "# dictionary which saves user input data\n",
    "params_dict = {}\n",
    "\n",
    "\n",
    "def get_params() -> dict:\n",
    "    \"\"\"Function get from user initial data input and saves it in params_dict\"\"\"\n",
    "\n",
    "    params_dict['marathon distance'] = input('Enter marathon distance: ')\n",
    "    params_dict['first day training kilometers'] = input('Enter first day training km: ')\n",
    "    params_dict['percent of daily training increase'] = input('Enter percent of daily training increase: ')\n",
    "\n",
    "    # check user input\n",
    "    check = 0\n",
    "    while check < 3:\n",
    "        for item in params_dict.items():\n",
    "            if item[1].isdigit() is False:\n",
    "                # print(f'Parameter {item[0]} should be integer! Try again!')\n",
    "                params_dict[item[0]] = input(f'Parameter {item[0]} should be integer! Try again: ')\n",
    "                check = 0\n",
    "            else:\n",
    "                check += 1\n",
    "    print()\n",
    "\n",
    "    return params_dict\n",
    "\n",
    "\n",
    "def training_plan(marathon_km, first_day_km, increase_percent_km) -> int:\n",
    "    \"\"\"Function calculates quantity of training days for marathon\"\"\"\n",
    "    daily_training = first_day_km\n",
    "    training_days = 1\n",
    "    days_list = [[training_days, daily_training]]\n",
    "\n",
    "    while marathon_km > daily_training:\n",
    "        # augmentation of training kilometers depending on training days\n",
    "        whole_increase_km = training_days * (first_day_km * (increase_percent_km/100))\n",
    "        daily_training = first_day_km + whole_increase_km\n",
    "        training_days += 1\n",
    "        # save data for further output\n",
    "        days_list.append([training_days, daily_training])\n",
    "\n",
    "    print(f'To run out marathon in {marathon_km} km you will need {training_days} day(s) of training: \\n')\n",
    "\n",
    "    print('Plan')\n",
    "    for day in days_list:\n",
    "        print('{0:>2} day - {1:>3} km'.format(day[0], day[1]))\n",
    "\n",
    "    return training_days\n",
    "\n",
    "\n",
    "get_params()\n",
    "\n",
    "training_plan(marathon_km=int(params_dict['marathon distance']),\n",
    "              first_day_km=int(params_dict['first day training kilometers']),\n",
    "              increase_percent_km=int(params_dict['percent of daily training increase']))"
   ]
  },
  {
   "cell_type": "markdown",
   "metadata": {
    "colab_type": "text",
    "id": "sxKoWpYKPzZo"
   },
   "source": [
    "### 8\n",
    "\n",
    "Напишите программу, которая на вход получает число n и считает по нему сумму 1²+2²+3²+...+n².\n",
    "<br><br>\n",
    "*Ограничение: нельзя пользоваться функцией `sum()` и ее аналогами.*"
   ]
  },
  {
   "cell_type": "code",
   "execution_count": 11,
   "metadata": {
    "colab": {},
    "colab_type": "code",
    "id": "RiPlWLm6PzZp"
   },
   "outputs": [
    {
     "name": "stdout",
     "output_type": "stream",
     "text": [
      "Enter integer: 15\n",
      "1240\n"
     ]
    },
    {
     "data": {
      "text/plain": [
       "1240"
      ]
     },
     "execution_count": 11,
     "metadata": {},
     "output_type": "execute_result"
    }
   ],
   "source": [
    "def number_range_power() -> int:\n",
    "    \"\"\"Function for calculating sum of series integers, raised to second power\"\"\"\n",
    "    number = ''\n",
    "    summary = 0\n",
    "    while number.isdigit() is False:\n",
    "        number = input('Enter integer: ')\n",
    "        # check for negative integer input and if so convert it to positive\n",
    "        number = number.lstrip('-') if number.startswith('-') else number\n",
    "    else:\n",
    "        for i in range(1, int(number) + 1):\n",
    "            summary = summary + i ** 2\n",
    "    print(summary)\n",
    "    return summary\n",
    "\n",
    "\n",
    "number_range_power()"
   ]
  },
  {
   "cell_type": "markdown",
   "metadata": {
    "colab_type": "text",
    "id": "aXzG4-wdPzZr"
   },
   "source": [
    "## 9\n",
    "\n",
    "Напишите программу, которая на вход получает число n и считает по нему сумму сумму 1! + 2! + 3! + ... + n!\n",
    "<br><br>\n",
    "*Ограничение: нельзя пользоваться готовой функцией `factorial()` из модуля `math`, функцией `sum()` и их аналогами.*"
   ]
  },
  {
   "cell_type": "code",
   "execution_count": 12,
   "metadata": {
    "colab": {},
    "colab_type": "code",
    "id": "KBEXUEDQPzZs"
   },
   "outputs": [
    {
     "name": "stdout",
     "output_type": "stream",
     "text": [
      "Enter positive integer: 8\n",
      "Final sum:  46233\n"
     ]
    },
    {
     "data": {
      "text/plain": [
       "46233"
      ]
     },
     "execution_count": 12,
     "metadata": {},
     "output_type": "execute_result"
    }
   ],
   "source": [
    "def number_range_factorial() -> int:\n",
    "    \"\"\"Function for calculating sum of factorials of series integers\"\"\"\n",
    "    number = ''\n",
    "    while number.isdigit() is False:\n",
    "        number = input('Enter positive integer: ')\n",
    "        # check for negative integer input and if so convert it to positive\n",
    "        number = number.lstrip('-') if number.startswith('-') else number\n",
    "    else:\n",
    "        number = int(number)\n",
    "        sum = 0\n",
    "        for i in range(1, number + 1):\n",
    "            number_factorial = 1\n",
    "            for j in range(1, i + 1):\n",
    "                number_factorial = number_factorial * j\n",
    "            sum = sum + number_factorial\n",
    "\n",
    "    print('Final sum: ', sum)\n",
    "    return sum\n",
    "\n",
    "\n",
    "number_range_factorial()"
   ]
  },
  {
   "cell_type": "markdown",
   "metadata": {
    "colab_type": "text",
    "id": "4nsOuiWVPzZu"
   },
   "source": [
    "### 10\n",
    "\n",
    "Напишите программу, которая получает на вход последовательность чисел (каждое число с новой строки до того момента, пока пользователь не введет 0) и считает количество четных элементов в последовательности."
   ]
  },
  {
   "cell_type": "code",
   "execution_count": 16,
   "metadata": {
    "colab": {},
    "colab_type": "code",
    "id": "xktF2cocPzZv"
   },
   "outputs": [
    {
     "name": "stdout",
     "output_type": "stream",
     "text": [
      "Input integer: 1\n",
      "Input integer: 2\n",
      "Input integer: 3\n",
      "Input integer: а\n",
      "Should be integer! Try again, please\n",
      "Input integer: 4\n",
      "Input integer: 5\n",
      "Input integer: \n",
      "Should be integer! Try again, please\n",
      "Input integer: 7\n",
      "Input integer: 8\n",
      "Input integer: 9\n",
      "Input integer: 0\n",
      "You inserted 3 even elements\n"
     ]
    },
    {
     "data": {
      "text/plain": [
       "3"
      ]
     },
     "execution_count": 16,
     "metadata": {},
     "output_type": "execute_result"
    }
   ],
   "source": [
    "def even_integers_counter() -> int:\n",
    "    \"\"\"Function calculates quantity of even integers series received from useer\"\"\"\n",
    "    counter = 0\n",
    "    while 1:\n",
    "        integer = input('Input integer: ')\n",
    "        # check for integer in input\n",
    "        if integer.isdigit():\n",
    "            integer = int(integer)\n",
    "            # check whether integer value is 0 and evenness of it\n",
    "            if integer != 0 and integer % 2 == 0:\n",
    "                counter += 1\n",
    "                continue\n",
    "            elif integer != 0:\n",
    "                continue\n",
    "            else:\n",
    "                print(f'You inserted {counter} even elements')\n",
    "                break\n",
    "        else:\n",
    "            print('Should be integer! Try again, please')\n",
    "            continue\n",
    "    return counter\n",
    "\n",
    "\n",
    "even_integers_counter()"
   ]
  },
  {
   "cell_type": "markdown",
   "metadata": {
    "colab_type": "text",
    "id": "hyC9QGXPPzZx"
   },
   "source": [
    "### 11\n",
    "\n",
    "Напишите программу, которая формирует список игроков женской команды по футболу. Программа должна записывать возраст и пол претендента. Возраст должен запрашиваться после пола и только в том случае, если пол претендента женский. Если пол претендента мужской, программа должна сообщать о том, что он не подходит. Возраст претенденток должен быть от 18 до 35 лет. Если кандидат удовлетворяет требованиям, должно появляться соответствующее сообщение."
   ]
  },
  {
   "cell_type": "code",
   "execution_count": 17,
   "metadata": {
    "colab": {},
    "colab_type": "code",
    "id": "qSDK-zQ4PzZx"
   },
   "outputs": [
    {
     "name": "stdout",
     "output_type": "stream",
     "text": [
      "Player's name: Ann\n",
      "Player's sex (male / female): female\n",
      "Player's age: 20\n",
      "Player is successfully added to football team!\n",
      "Do you want to add another player? y/n: n\n",
      "Team players: \n",
      "Ann, 20 years old\n"
     ]
    }
   ],
   "source": [
    "def female_football_team_form():\n",
    "    \"\"\"Function creates list of female football team players\"\"\"\n",
    "\n",
    "    players = []\n",
    "    while 1:\n",
    "        name = input('Player\\'s name: ')\n",
    "        sex = input('Player\\'s sex (male / female): ')\n",
    "\n",
    "        # validate sex input\n",
    "        if sex == 'female':\n",
    "            pass\n",
    "        else:\n",
    "            try_again_sex = input('Sorry, this team only for girls. Try again? y/n: ')\n",
    "            if try_again_sex == 'y':\n",
    "                continue\n",
    "            else:\n",
    "                print(f'Team players: ')\n",
    "                [print(f'{name}, {age} years old') for name, age in players]\n",
    "                break\n",
    "\n",
    "        # validate age input\n",
    "        age = input('Player\\'s age: ')\n",
    "        if age.isdigit() and 18 <= int(age) <= 35:\n",
    "            print(\"Player is successfully added to football team!\")\n",
    "            players.append([name, age])\n",
    "        else:\n",
    "            try_again_age = input('Sorry, player\\'s age is not suitable by restrictions. Try again? y/n: ')\n",
    "            if try_again_age == 'y':\n",
    "                continue\n",
    "            else:\n",
    "                print(f'Team players: ')\n",
    "                [print(f'{name}, {age} years old') for name, age in players]\n",
    "                break\n",
    "\n",
    "        next_player = input('Do you want to add another player? y/n: ')\n",
    "        if next_player == 'y':\n",
    "            continue\n",
    "        else:\n",
    "            print(f'Team players: ')\n",
    "            [print(f'{name}, {age} years old') for name, age in players]\n",
    "            break\n",
    "\n",
    "\n",
    "female_football_team_form()"
   ]
  },
  {
   "cell_type": "markdown",
   "metadata": {
    "colab_type": "text",
    "id": "B4JAB8AqPzZ0"
   },
   "source": [
    "### 12\n",
    "\n",
    "\n",
    "Напишите программу, которая на вход получает максимальную ширину ромба и рисует его. Гарантируется, что входное число всегда нечетное.\n",
    " \n",
    "Пример вывода для числа 5:\n",
    "```  \n",
    "  *\n",
    " ***\n",
    "*****\n",
    " ***\n",
    "  *```"
   ]
  },
  {
   "cell_type": "code",
   "execution_count": 18,
   "metadata": {
    "colab": {},
    "colab_type": "code",
    "id": "WVp7O75oPzZ0"
   },
   "outputs": [
    {
     "name": "stdout",
     "output_type": "stream",
     "text": [
      "Insert any symbol: #\n",
      "Enter odd integer: 5\n",
      "   #\n",
      "  ###\n",
      " #####\n",
      "  ###\n",
      "   #\n"
     ]
    }
   ],
   "source": [
    "def diamond():\n",
    "    \"\"\"Function creates diamond from inserted symbols\"\"\"\n",
    "    symbol = input('Insert any symbol: ')\n",
    "    while 1:\n",
    "        width = input('Enter odd integer: ')\n",
    "\n",
    "        # validate integer in input\n",
    "        if width.isdigit() is False:\n",
    "            print('Should be integer! Try again')\n",
    "            continue\n",
    "        else:\n",
    "            # validate oddness of integer and add 1 to integer if integer is even\n",
    "            width = int(width)\n",
    "            if width % 2 == 0:\n",
    "                width += 1\n",
    "\n",
    "            # define number of spaces for indent before symbols\n",
    "            spaces_number = int(width // 2)\n",
    "            symbols_number = 1\n",
    "\n",
    "            for i in range(1, width + 1):\n",
    "                if i < (width + 1) // 2:\n",
    "                    # upper part of diamond\n",
    "                    print(' ' * spaces_number, symbol * symbols_number)\n",
    "                    spaces_number = spaces_number - 1\n",
    "                    symbols_number = symbols_number + 2\n",
    "                else:\n",
    "                    # lower part of diamond\n",
    "                    print(' ' * spaces_number, symbol * symbols_number)\n",
    "                    spaces_number = spaces_number + 1\n",
    "                    symbols_number = symbols_number - 2\n",
    "        break\n",
    "\n",
    "\n",
    "diamond()"
   ]
  },
  {
   "cell_type": "markdown",
   "metadata": {
    "colab_type": "text",
    "id": "xrIXWj0yPzZ2"
   },
   "source": [
    "### 13\n",
    "\n",
    "Напишите программу, которая запрашивает у пользователя сторону квадрата и символ, а затем рисует этот символ по диагоналям квадрата. Гарантируется, что входное число всегда нечетное.\n",
    " \n",
    "Пример вывода для числа 5:\n",
    "```\n",
    " \n",
    "#   #\n",
    " # #\n",
    "  #  \n",
    " # #\n",
    "#   #\n",
    "```"
   ]
  },
  {
   "cell_type": "code",
   "execution_count": 19,
   "metadata": {
    "colab": {},
    "colab_type": "code",
    "id": "oUKNB9TaPzZ3",
    "outputId": "47421e19-6d45-4cef-9df8-0d89200499ca"
   },
   "outputs": [
    {
     "name": "stdout",
     "output_type": "stream",
     "text": [
      "Enter symbol: #\n",
      "Enter odd integer: 5\n",
      "#   #\n",
      " # #\n",
      "  #\n",
      " # #\n",
      "#   #\n"
     ]
    }
   ],
   "source": [
    "def cross_shape():\n",
    "    \"\"\"Function creates cross from inserted symbols\"\"\"\n",
    "    symbol = input('Enter symbol: ')\n",
    "    while 1:\n",
    "        width = input('Enter odd integer: ')\n",
    "\n",
    "        # validate integer in input\n",
    "        if width.isdigit() is False:\n",
    "            print('Should be integer! Try again')\n",
    "            continue\n",
    "        else:\n",
    "            width = int(width)\n",
    "            # validate oddness of integer and add 1 to integer if integer is even\n",
    "            if width % 2 == 0:\n",
    "                width += 1\n",
    "\n",
    "            tab = 0  # variable of indents outside of cross\n",
    "            spaces_number = width - 2  # variable of spaces between 'legs' of cross\n",
    "\n",
    "            for i in range(1, width + 1):\n",
    "                # upper part of cross\n",
    "                if i < (width + 1) // 2:\n",
    "                    print(' ' * tab + symbol + ' ' * spaces_number + symbol)\n",
    "                    spaces_number = spaces_number - 2\n",
    "                    tab += 1\n",
    "                # middle part of cross\n",
    "                elif i == (width + 1) // 2:\n",
    "                    print(' ' * tab + symbol)\n",
    "                    tab -= 1\n",
    "                # lower part of cross\n",
    "                else:\n",
    "                    spaces_number = spaces_number + 2\n",
    "                    print(' ' * tab + symbol + ' ' * spaces_number + symbol)\n",
    "                    tab -= 1\n",
    "            break\n",
    "\n",
    "\n",
    "cross_shape()"
   ]
  },
  {
   "cell_type": "markdown",
   "metadata": {
    "colab_type": "text",
    "id": "3GaiPsFYPzZ_"
   },
   "source": [
    "### 14\n",
    "\n",
    "В корзине лежат шары. Если разложить их в кучи по 2, останется один. Если разложить в кучи по 3, останется один. Если разложить в кучи по 4, останется один. Если разложить в кучи по 5, останется один. Если разложить в кучи по 6, останется один. Если разложить в кучи по 7, не будет остатка. Нужно найти минимальное количество шаров, удовлетворяющее условию.  <br>"
   ]
  },
  {
   "cell_type": "code",
   "execution_count": 20,
   "metadata": {
    "colab": {
     "base_uri": "https://localhost:8080/",
     "height": 32
    },
    "colab_type": "code",
    "executionInfo": {
     "elapsed": 1380,
     "status": "ok",
     "timestamp": 1571844968537,
     "user": {
      "displayName": "Анастасия Рогачевская",
      "photoUrl": "https://lh3.googleusercontent.com/a-/AAuE7mB92snW1RMZTGvFBrPMpd_BzLIeP2XnbSZ3ZNVFUQ=s64",
      "userId": "07714489023974728369"
     },
     "user_tz": -180
    },
    "id": "V2msEhQkPzZ_",
    "outputId": "c36c996d-347b-430f-f53e-65e37eb23108"
   },
   "outputs": [
    {
     "name": "stdout",
     "output_type": "stream",
     "text": [
      "Minimum balls quantity:  301\n"
     ]
    }
   ],
   "source": [
    "x = 1\n",
    "\n",
    "while 1:\n",
    "    # validate 5 first conditions for dividing integer by 2, 3, 4, 5, 6 without reminder\n",
    "    first_check = 0\n",
    "    for i in range(2, 7):\n",
    "        if x % i != 1:\n",
    "            break\n",
    "        else:\n",
    "            # sum of successful checks\n",
    "            first_check = first_check + x % i\n",
    "\n",
    "    # validate last condition for dividing integer by 7 without reminder\n",
    "    if first_check == 5 and x % 7 == 0:\n",
    "        print('Minimum balls quantity: ', x)\n",
    "        break\n",
    "    else:\n",
    "        x += 1\n",
    "        continue"
   ]
  },
  {
   "cell_type": "markdown",
   "metadata": {
    "colab_type": "text",
    "id": "5pOjlON-PzaC"
   },
   "source": [
    "### 15\n",
    "\n",
    "Рабочие клеили обои на стены. Первую стену поклеили за M минут, а каждую следующую на 5 минут больше, чем предыдущую.\n",
    "Напишите программу, которая запрашивает сколько стен было в квартире под поклейку, а также время работы с первой стеной. Программа должна выводить, сколько **часов** рабочие потратили на поклейку обоев во всей квартире. Ответом должно быть целое число.\n",
    "<br><br>\n",
    "*Ограничение: нельзя пользоваться готовыми функциями `bool()`, `floor()` и их аналогами.*"
   ]
  },
  {
   "cell_type": "code",
   "execution_count": 21,
   "metadata": {
    "colab": {},
    "colab_type": "code",
    "id": "Pmu96rWGPzaD"
   },
   "outputs": [
    {
     "name": "stdout",
     "output_type": "stream",
     "text": [
      "Walls: 10\n",
      "Minutes per wall: 5\n",
      "Hours for all walls: 5\n"
     ]
    },
    {
     "data": {
      "text/plain": [
       "5"
      ]
     },
     "execution_count": 21,
     "metadata": {},
     "output_type": "execute_result"
    }
   ],
   "source": [
    "def time_for_walls() -> int:\n",
    "    \"\"\"Function calculates required time for glueing wallpapers on the number of walls\"\"\"\n",
    "    walls = int(input('Walls: '))\n",
    "    minutes_for_wall = int(input('Minutes per wall: '))\n",
    "    whole_time = 0\n",
    "\n",
    "    # define whole time in minutes spent for all walls\n",
    "    for i in range(1, walls + 1):\n",
    "        whole_time = whole_time + minutes_for_wall * i\n",
    "\n",
    "    # define whole time in hours spent for all walls\n",
    "    hours_for_walls = whole_time // 60\n",
    "    reminder_minutes = whole_time - (hours_for_walls * 60)\n",
    "\n",
    "    # depends on reminder of minutes add or don't add another hour\n",
    "    if reminder_minutes >= 30:\n",
    "        hours_for_walls += 1\n",
    "    print(f'Hours for all walls: {hours_for_walls}')\n",
    "    return hours_for_walls\n",
    "\n",
    "\n",
    "time_for_walls()"
   ]
  },
  {
   "cell_type": "markdown",
   "metadata": {
    "colab_type": "text",
    "id": "63C6Za3CPzaF"
   },
   "source": [
    "### 16\n",
    "\n",
    "Напишите программу, которая убирает из списка повторяющиеся элементы. Программа должна запрашивать на вход слова, каждое с новой строки, пока пользователь не введет пустую строку. Затем должна выводить список без повторяющихся элементов. \n",
    "<br><br>\n",
    "*Ограничение: нельзя пользоваться готовой функцией `set()` и ее аналогами.*"
   ]
  },
  {
   "cell_type": "code",
   "execution_count": 22,
   "metadata": {
    "colab": {},
    "colab_type": "code",
    "id": "MQ-eDkbAPzaG"
   },
   "outputs": [
    {
     "name": "stdout",
     "output_type": "stream",
     "text": [
      "Input word: one\n",
      "Input word: two\n",
      "Input word: two\n",
      "Input word: three\n",
      "Input word: three\n",
      "Input word: three\n",
      "Input word: four\n",
      "Input word: \n",
      "['one', 'two', 'two', 'three', 'three', 'three', 'four']\n",
      "['one', 'two', 'three', 'four']\n"
     ]
    },
    {
     "data": {
      "text/plain": [
       "['one', 'two', 'three', 'four']"
      ]
     },
     "execution_count": 22,
     "metadata": {},
     "output_type": "execute_result"
    }
   ],
   "source": [
    "def get_words() -> list:\n",
    "    \"\"\"Function for getting words from user and pack it in list\"\"\"\n",
    "    gotten_words = []\n",
    "    while 1:\n",
    "        word = input('Input word: ')\n",
    "        # check for empty string\n",
    "        if word == '':\n",
    "            break\n",
    "        gotten_words.append(word)\n",
    "    print(gotten_words)\n",
    "    return gotten_words\n",
    "\n",
    "\n",
    "def remove_duplicate(checking_list) -> list:\n",
    "    \"\"\"Function seek for duplicate elements in list and returns unique elements list\"\"\"\n",
    "    unique_elements_list = []\n",
    "    for i in checking_list:\n",
    "        if i in unique_elements_list:\n",
    "            pass\n",
    "        else:\n",
    "            unique_elements_list.append(i)\n",
    "    print(unique_elements_list)\n",
    "    return unique_elements_list\n",
    "\n",
    "\n",
    "remove_duplicate(get_words())"
   ]
  },
  {
   "cell_type": "markdown",
   "metadata": {
    "colab_type": "text",
    "id": "jueSDORaPzaI"
   },
   "source": [
    "### 17\n",
    "\n",
    "Напишите программу, которая выводит число пар одинаковых элементов в списке. Программа должна запрашивать на вход слова, каждое с новой строки, пока пользователь не введет пустую строку. "
   ]
  },
  {
   "cell_type": "code",
   "execution_count": 23,
   "metadata": {
    "colab": {},
    "colab_type": "code",
    "id": "49tbEr3NPzaJ"
   },
   "outputs": [
    {
     "name": "stdout",
     "output_type": "stream",
     "text": [
      "Input word: 1\n",
      "Input word: 2\n",
      "Input word: 2\n",
      "Input word: 3\n",
      "Input word: 4\n",
      "Input word: 4\n",
      "Input word: 5\n",
      "Input word: 5\n",
      "Input word: 5\n",
      "Input word: 5\n",
      "Input word: 6\n",
      "Input word: 6\n",
      "Input word: \n",
      "Element 2 has 1 pair(s)\n",
      "Element 4 has 1 pair(s)\n",
      "Element 5 has 2 pair(s)\n",
      "Element 6 has 1 pair(s)\n",
      "4 elements have pairs in list\n"
     ]
    },
    {
     "data": {
      "text/plain": [
       "{'2': 1, '4': 1, '5': 2, '6': 1}"
      ]
     },
     "execution_count": 23,
     "metadata": {},
     "output_type": "execute_result"
    }
   ],
   "source": [
    "def get_words() -> list:\n",
    "    \"\"\"Function for getting words from user and pack it in list\"\"\"\n",
    "    gotten_words = []\n",
    "    while 1:\n",
    "        word = input('Input word: ')\n",
    "        # check for empty string\n",
    "        if word == '':\n",
    "            break\n",
    "        gotten_words.append(word)\n",
    "    return gotten_words\n",
    "\n",
    "\n",
    "def pairs_quantity(checking_list) -> dict:\n",
    "    \"\"\"Function for calculation of pair elements in list\"\"\"\n",
    "    pair_element_dict = {}\n",
    "    for i in checking_list:\n",
    "        # define how many pairs might be done from every element quantity if it has duplicates\n",
    "        if checking_list.count(i) > 1:\n",
    "            pair_element_dict[i] = checking_list.count(i) // 2\n",
    "\n",
    "    counter = 0\n",
    "    for key, value in pair_element_dict.items():\n",
    "        print(f'Element {key} has {value} pair(s)')\n",
    "        counter += 1\n",
    "    print(f'{counter} elements have pairs in list')\n",
    "    return pair_element_dict\n",
    "\n",
    "\n",
    "pairs_quantity(get_words())"
   ]
  },
  {
   "cell_type": "markdown",
   "metadata": {
    "colab_type": "text",
    "id": "yVLcBrD-PzaN"
   },
   "source": [
    "### 18\n",
    "\n",
    "Будем считать, что кубик может иметь неограниченное количество граней (натуральное число). Напишите программу, которая запрашивает, сколько граней имеется у двух разных кубиков. Затем выводит все возможные комбинации результатов бросков двух таких кубиков. "
   ]
  },
  {
   "cell_type": "code",
   "execution_count": 1,
   "metadata": {},
   "outputs": [
    {
     "name": "stdout",
     "output_type": "stream",
     "text": [
      "Enter sides quantity at first and second dice separated by space: 7 8\n",
      "Possible combinations:  \n",
      "\n",
      "1. 1 x 1\n",
      "2. 1 x 2\n",
      "3. 1 x 3\n",
      "4. 1 x 4\n",
      "5. 1 x 5\n",
      "6. 1 x 6\n",
      "7. 1 x 7\n",
      "8. 1 x 8\n",
      "9. 2 x 1\n",
      "10. 2 x 2\n",
      "11. 2 x 3\n",
      "12. 2 x 4\n",
      "13. 2 x 5\n",
      "14. 2 x 6\n",
      "15. 2 x 7\n",
      "16. 2 x 8\n",
      "17. 3 x 1\n",
      "18. 3 x 2\n",
      "19. 3 x 3\n",
      "20. 3 x 4\n",
      "21. 3 x 5\n",
      "22. 3 x 6\n",
      "23. 3 x 7\n",
      "24. 3 x 8\n",
      "25. 4 x 1\n",
      "26. 4 x 2\n",
      "27. 4 x 3\n",
      "28. 4 x 4\n",
      "29. 4 x 5\n",
      "30. 4 x 6\n",
      "31. 4 x 7\n",
      "32. 4 x 8\n",
      "33. 5 x 1\n",
      "34. 5 x 2\n",
      "35. 5 x 3\n",
      "36. 5 x 4\n",
      "37. 5 x 5\n",
      "38. 5 x 6\n",
      "39. 5 x 7\n",
      "40. 5 x 8\n",
      "41. 6 x 1\n",
      "42. 6 x 2\n",
      "43. 6 x 3\n",
      "44. 6 x 4\n",
      "45. 6 x 5\n",
      "46. 6 x 6\n",
      "47. 6 x 7\n",
      "48. 6 x 8\n",
      "49. 7 x 1\n",
      "50. 7 x 2\n",
      "51. 7 x 3\n",
      "52. 7 x 4\n",
      "53. 7 x 5\n",
      "54. 7 x 6\n",
      "55. 7 x 7\n",
      "56. 7 x 8\n"
     ]
    },
    {
     "data": {
      "text/plain": [
       "56"
      ]
     },
     "execution_count": 1,
     "metadata": {},
     "output_type": "execute_result"
    }
   ],
   "source": [
    "def dice_combinations() -> int:\n",
    "    \"\"\"Function defines all possible combinations of two dices\"\"\"\n",
    "    while 1:\n",
    "        try:\n",
    "            dice1_sides, dice2_sides = map(int, input('Enter sides quantity at first and second dice separated by '\n",
    "                                                      'space: ').split())\n",
    "        # validate user input\n",
    "        except ValueError:\n",
    "            if input('Unsupported data! Try again? y/n ') == 'y':\n",
    "                continue\n",
    "            else:\n",
    "                break\n",
    "\n",
    "        print('Possible combinations: ', '\\n')\n",
    "        combinations = 0\n",
    "        for i in range(1, dice1_sides + 1):\n",
    "            for j in range(1, dice2_sides + 1):\n",
    "                combinations += 1\n",
    "                print(f'{combinations}. {i} x {j}')\n",
    "        return combinations\n",
    "\n",
    "\n",
    "dice_combinations()"
   ]
  },
  {
   "cell_type": "code",
   "execution_count": null,
   "metadata": {},
   "outputs": [],
   "source": []
  }
 ],
 "metadata": {
  "colab": {
   "name": "jun_anl_loops_and_ifs_СКРИПТ.ipynb",
   "provenance": []
  },
  "kernelspec": {
   "display_name": "Python 3",
   "language": "python",
   "name": "python3"
  },
  "language_info": {
   "codemirror_mode": {
    "name": "ipython",
    "version": 3
   },
   "file_extension": ".py",
   "mimetype": "text/x-python",
   "name": "python",
   "nbconvert_exporter": "python",
   "pygments_lexer": "ipython3",
   "version": "3.7.4"
  }
 },
 "nbformat": 4,
 "nbformat_minor": 1
}
