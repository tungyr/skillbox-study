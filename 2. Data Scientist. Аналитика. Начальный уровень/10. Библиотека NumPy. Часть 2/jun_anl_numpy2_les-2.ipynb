{
 "cells": [
  {
   "cell_type": "markdown",
   "metadata": {},
   "source": [
    "### Урок 4.2: изменение списков"
   ]
  },
  {
   "cell_type": "code",
   "execution_count": 1,
   "metadata": {},
   "outputs": [],
   "source": [
    "import numpy as np\n",
    "scores = np.array([3, 5, 7, 9, 8, 10])\n",
    "pairs = scores.reshape(3, 2)"
   ]
  },
  {
   "cell_type": "markdown",
   "metadata": {},
   "source": [
    "В прошлом модуле мы довольно подробно посмотрели, как можно обращаться к элементам массива или даже к группе элементов, используя срезы, а сейчас мы посмотрим на то, каким образом элементы можно изменять. Возьмём массив `pairs` из предыдущего урока, который содержит оценки пар студентов:"
   ]
  },
  {
   "cell_type": "code",
   "execution_count": 2,
   "metadata": {},
   "outputs": [
    {
     "data": {
      "text/plain": [
       "array([[ 3,  5],\n",
       "       [ 7,  9],\n",
       "       [ 8, 10]])"
      ]
     },
     "execution_count": 2,
     "metadata": {},
     "output_type": "execute_result"
    }
   ],
   "source": [
    "pairs"
   ]
  },
  {
   "cell_type": "markdown",
   "metadata": {},
   "source": [
    "Представим, что при внесении оценки первого студента мы ошиблись, и там на самом деле должна стоять оценка 3. Поправим: обратимся к этому элементу (это мы уже умеем делать), а далее присвоим ему новое значение:"
   ]
  },
  {
   "cell_type": "code",
   "execution_count": 3,
   "metadata": {},
   "outputs": [
    {
     "data": {
      "text/plain": [
       "array([[ 3,  5],\n",
       "       [ 7,  9],\n",
       "       [ 8, 10]])"
      ]
     },
     "execution_count": 3,
     "metadata": {},
     "output_type": "execute_result"
    }
   ],
   "source": [
    "pairs[0][0] = 3\n",
    "pairs"
   ]
  },
  {
   "cell_type": "markdown",
   "metadata": {},
   "source": [
    "Обратите внимание: у нас получилось изменить массив, не перезаписывая его полностью в переменную `pairs`, а только поправив один элемент. Это возможно, потому что массивы `NumPy` в Python – это изменяемые объекты. Изменяемость как раз и заключается в том, что мы можем изменить объект «как есть», не присваивая новый результат переменной с таким же названием. Это удобно, но иногда может вызывать проблемы. \n",
    "\n",
    "Представим, что мы хотим написать отчёт об ошибке в массиве `pairs` (ошибке в ведомости с оценками), и нам нужно предоставить старый массив и исправленный массив. Мы создаем массив `pairs2` и изменяем в нём значение первого элемента:"
   ]
  },
  {
   "cell_type": "code",
   "execution_count": 4,
   "metadata": {},
   "outputs": [
    {
     "data": {
      "text/plain": [
       "array([[ 4,  5],\n",
       "       [ 7,  9],\n",
       "       [ 8, 10]])"
      ]
     },
     "execution_count": 4,
     "metadata": {},
     "output_type": "execute_result"
    }
   ],
   "source": [
    "pairs2 = pairs\n",
    "pairs2[0][0] = 4\n",
    "pairs2"
   ]
  },
  {
   "cell_type": "markdown",
   "metadata": {},
   "source": [
    "Если мы «скопировали» массив `pairs` в массив `pairs2` как в коде выше, через присваивание, нас будет ждать сюрприз:"
   ]
  },
  {
   "cell_type": "code",
   "execution_count": 5,
   "metadata": {},
   "outputs": [
    {
     "name": "stdout",
     "output_type": "stream",
     "text": [
      "[[ 4  5]\n",
      " [ 7  9]\n",
      " [ 8 10]]\n",
      "[[ 4  5]\n",
      " [ 7  9]\n",
      " [ 8 10]]\n"
     ]
    }
   ],
   "source": [
    "print(pairs)\n",
    "print(pairs2)"
   ]
  },
  {
   "cell_type": "markdown",
   "metadata": {},
   "source": [
    "При изменении массива `pairs2`, массив `pairs` тоже изменился! Это тоже связано с тем, что массивы является изменяемыми объектами в Python. Поэтому, когда мы записываем что-то через присваивание (`=`), мы на самом деле создаем не новый объект, не копию, а просто ссылку на старый. Можно провести аналогию с созданием новой папки и ярлыка: при присваивании через `=` мы создаем «ярлык», просто ссылку на старый объект, а при непосредственном копировании мы создаем «папку», то есть новый объект. Копирование массива осуществляется с помощью метода `.copy()`:"
   ]
  },
  {
   "cell_type": "code",
   "execution_count": 7,
   "metadata": {},
   "outputs": [
    {
     "name": "stdout",
     "output_type": "stream",
     "text": [
      "[[ 4  5]\n",
      " [ 7  9]\n",
      " [ 8 10]]\n",
      "[[4 5]\n",
      " [7 9]\n",
      " [8 9]]\n"
     ]
    }
   ],
   "source": [
    "pairs3 = pairs2.copy()\n",
    "pairs3[2][1] = 9\n",
    "print(pairs2)\n",
    "print(pairs3)"
   ]
  },
  {
   "cell_type": "markdown",
   "metadata": {},
   "source": [
    "Также скопировать массив можно, сделав его полный срез:"
   ]
  },
  {
   "cell_type": "code",
   "execution_count": null,
   "metadata": {},
   "outputs": [],
   "source": [
    "pairs4 = pairs3[:]\n",
    "pairs4"
   ]
  },
  {
   "cell_type": "markdown",
   "metadata": {},
   "source": [
    "Посмотреть, насколько копия, созданная с помощью полного среза, является полноценной копией, и изменяется ли при её редактировании «оригинал», слушателям предлагается самостоятельно."
   ]
  },
  {
   "cell_type": "markdown",
   "metadata": {},
   "source": [
    "Раз уже заговорили о срезах, давайте посмотрим, как изменить сразу несколько списков в массиве. Например, заменить в `pairs` первые два списка:"
   ]
  },
  {
   "cell_type": "code",
   "execution_count": 8,
   "metadata": {},
   "outputs": [],
   "source": [
    "pairs[0:2] = [[5, 4], [9, 7]]"
   ]
  },
  {
   "cell_type": "code",
   "execution_count": 9,
   "metadata": {},
   "outputs": [
    {
     "data": {
      "text/plain": [
       "array([[ 5,  4],\n",
       "       [ 9,  7],\n",
       "       [ 8, 10]])"
      ]
     },
     "execution_count": 9,
     "metadata": {},
     "output_type": "execute_result"
    }
   ],
   "source": [
    "pairs"
   ]
  },
  {
   "cell_type": "markdown",
   "metadata": {},
   "source": [
    "На этом с изменением элементов массивов мы закончим, а в следующей части поговорим о создании новых массивов на основе старых с помощью генераторов списков и циклов."
   ]
  }
 ],
 "metadata": {
  "kernelspec": {
   "display_name": "Python 3",
   "language": "python",
   "name": "python3"
  },
  "language_info": {
   "codemirror_mode": {
    "name": "ipython",
    "version": 3
   },
   "file_extension": ".py",
   "mimetype": "text/x-python",
   "name": "python",
   "nbconvert_exporter": "python",
   "pygments_lexer": "ipython3",
   "version": "3.6.5"
  }
 },
 "nbformat": 4,
 "nbformat_minor": 2
}
