{
 "cells": [
  {
   "cell_type": "markdown",
   "metadata": {},
   "source": [
    "# Введение в Python\n",
    "\n",
    "*Алла Тамбовцева*\n",
    "\n",
    "## Домашнее задание"
   ]
  },
  {
   "cell_type": "markdown",
   "metadata": {},
   "source": [
    "В домашнем задании необходимо решить предложенные задачи по программированию – вписать\n",
    "свой код в ячейки после условий задач вместо комментария ### YOUR CODE HERE ### в файле\n",
    "homework1.ipynb и сохранить изменения, используя опцию Save and Checkpoint из вкладки меню\n",
    "File или кнопку Save and Checkpoint на панели инструментов. Итоговый файл в формате .ipynb\n",
    "(файл Jupyter Notebook) необходимо загрузить в личный кабинет обучающей онлайн платформы\n",
    "Skillbox (https://go.skillbox.ru/) и отправить на проверку.\n",
    "Во всех задачах под входными данными подразумевается то, что ввёл пользователь (с клавиатуры\n",
    "или просто сохранил в переменную), под выходными данными – результат исполнения кода.\n",
    "Программа здесь – строки кода, необходимые для выполнения задачи и выдачи результатов на\n",
    "экран. <br><br>\n",
    "В задачах понадобится запрашивать какую-то информацию у пользователя с клавиатуры. Для этого нужно использовать функцию `input()`, примеры использования которой были приведены в видео-уроках."
   ]
  },
  {
   "cell_type": "markdown",
   "metadata": {},
   "source": [
    "### Задача 1\n",
    "\n",
    "Вычислите в Python:\n",
    "    \n",
    "$9^2 + 6^4$;\n",
    "\n",
    "$\\log(54)$ (натуральный логарифм);\n",
    "\n",
    "$\\sqrt{8} - \\sqrt{12}$;\n",
    "\n",
    "$\\sin(45) + \\cos(45)$."
   ]
  },
  {
   "cell_type": "code",
   "execution_count": 13,
   "metadata": {},
   "outputs": [
    {
     "name": "stdout",
     "output_type": "stream",
     "text": [
      "Power sum:  1377 \n",
      " Logarithm:  3.9889840465642745 \n",
      " Square roots sum:  -0.6356744903915641 \n",
      " Sin and cos sum:  1.3762255133518482\n"
     ]
    }
   ],
   "source": [
    "import math\n",
    "power_res = 9 ** 2 + 6 ** 4\n",
    "log_res = math.log(54)\n",
    "sqrt_sum = math.sqrt(8) - math.sqrt(12)\n",
    "sin_cos = math.sin(45) + math.cos(45)\n",
    "print(\"Power sum: \", power_res,'\\n', 'Logarithm: ', log_res, '\\n', 'Square roots sum: ', sqrt_sum,'\\n', 'Sin and cos sum: ',sin_cos)"
   ]
  },
  {
   "cell_type": "markdown",
   "metadata": {},
   "source": [
    "### Задача 2\n",
    "\n",
    "Напишите программу, которая запрашивает у пользователя размер обуви, а выводит на экран размер скальных туфель (туфли для скалолазания), учитывая, что обычно размер скальных туфель на 2 размера меньше обычного.\n",
    "\n",
    "**Пример работы программы:**\n",
    "\n",
    "*Входные данные*\n",
    "\n",
    "    38\n",
    "\n",
    "*Выходные данные*\n",
    "\n",
    "    36"
   ]
  },
  {
   "cell_type": "code",
   "execution_count": 15,
   "metadata": {},
   "outputs": [
    {
     "name": "stdout",
     "output_type": "stream",
     "text": [
      "Enter your shoes size: 42\n",
      "You indicated your shoes size as  42\n",
      "Your rock shoes size is  40\n"
     ]
    }
   ],
   "source": [
    "shoe_size = int(input('Enter your shoes size: '))\n",
    "print('You indicated your shoes size as ', shoe_size)\n",
    "rock_shoe_size = shoe_size - 2\n",
    "print('Your rock shoes size is ', rock_shoe_size)\n"
   ]
  },
  {
   "cell_type": "markdown",
   "metadata": {},
   "source": [
    "### Задача 3\n",
    "\n",
    "Тест по английскому языку состоит из трёх частей. Ученик последовательно вводит с клавиатуры набранные баллы за каждую часть – три целых числа. Каждое число вводится на отдельной строке, то есть `input()` запрашивается три раза. Напишите программу, которая считает итоговый балл за тест – сумму баллов за три части.\n",
    "\n",
    "**Пример работы программы:**\n",
    "\n",
    "*Входные данные*\n",
    "\n",
    "    5\n",
    "    4\n",
    "    6\n",
    "    \n",
    "*Выходные данные*\n",
    "\n",
    "    15"
   ]
  },
  {
   "cell_type": "code",
   "execution_count": 17,
   "metadata": {},
   "outputs": [
    {
     "name": "stdout",
     "output_type": "stream",
     "text": [
      "Please enter your first mark: 1\n",
      "Please enter your second mark: 2\n",
      "Please enter your third mark: 3\n",
      "Your total mark is:  6\n"
     ]
    }
   ],
   "source": [
    "mark_one = int(input('Please enter your first mark: '))\n",
    "mark_two = int(input('Please enter your second mark: '))\n",
    "mark_three = int(input('Please enter your third mark: '))\n",
    "print('Your total mark is: ', mark_one + mark_two + mark_three)"
   ]
  },
  {
   "cell_type": "markdown",
   "metadata": {},
   "source": [
    "### Задача 4\n",
    "\n",
    "В переменной `salary` хранится значение заработной платы человека в рублях (можете сами присвоить `salary` какое-нибудь значение).\n",
    "\n",
    "Напишите программу, которая выражает заработную плату человека в *тысячах рублей* и\n",
    "\n",
    "\n",
    "a) сохраняет результат в переменную `salary_th` и выводит результат на экран;\n",
    "\n",
    "b) выводит на экран сообщение (с подставленным вместо `___` значением):\n",
    "\n",
    "    Ваша заработная плата __ тысяч рублей.\n",
    "    \n",
    "**Пример работы программы (пункт a):**\n",
    "\n",
    "\n",
    "*Входные данные*\n",
    "\n",
    "    salary = 35000\n",
    "\n",
    "*Выходные данные*\n",
    "    \n",
    "    35\n",
    "    \n",
    "**Пример работы программы (пункт b):**\n",
    "\n",
    "\n",
    "*Входные данные*\n",
    "\n",
    "    salary = 35000\n",
    "\n",
    "*Выходные данные*\n",
    "    \n",
    "    Ваша заработная плата 35 тысяч рублей."
   ]
  },
  {
   "cell_type": "code",
   "execution_count": 29,
   "metadata": {},
   "outputs": [
    {
     "name": "stdout",
     "output_type": "stream",
     "text": [
      "Ваша заработная плата  32  тысяч рублей.\n"
     ]
    }
   ],
   "source": [
    "salary = 32500\n",
    "salary_th = salary // 1000  # альтернативное решение: salary_th = int(salary / 1000)\n",
    "print('Ваша заработная плата ', salary_th, ' тысяч рублей.')\n"
   ]
  },
  {
   "cell_type": "markdown",
   "metadata": {},
   "source": [
    "### Задача 5\n",
    "\n",
    "Напишите программу, которая запрашивает у пользователя сумму (в рублях), которую он хочет перевести своему другу на карту другого банка, и возвращает сумму списания (в рублях) с учётом комиссии банка 5%.\n",
    "\n",
    "*Примечание:* считайте, что сумма перевода – целое число.\n",
    "\n",
    "**Пример работы программы:**\n",
    "\n",
    "*Входные данные*\n",
    "\n",
    "    1000\n",
    "\n",
    "*Выходные данные*\n",
    "\n",
    "    1050.0"
   ]
  },
  {
   "cell_type": "code",
   "execution_count": 1,
   "metadata": {},
   "outputs": [
    {
     "name": "stdout",
     "output_type": "stream",
     "text": [
      "How much money do you want to transfer?: 1000\n",
      "Your transfer minus bank fee is:  1050.0  rubles.\n"
     ]
    }
   ],
   "source": [
    "transfer_amount = int(input('How much money do you want to transfer?: '))\n",
    "transfer_fee = transfer_amount + (transfer_amount * 0.05)\n",
    "print('Your transfer with bank fee is: ', transfer_fee, ' rubles.')\n"
   ]
  },
  {
   "cell_type": "markdown",
   "metadata": {},
   "source": [
    "### Задача 6\n",
    "\n",
    "Питон выполз на улицу погулять и решил поиграть: просил прохожих назвать какую-нибудь цифру (т.е. ввести её с клавиатуры) и приписывал эту цифру к цифре, которую назвал предыдущий прохожий. Напишите код, который позволит определить, какое число получится после опроса четырёх прохожих, если известно, что первый прохожий назвал цифру 5. Задача не подразумевает использование циклов; запускать код несколько раз / копировать строки кода или ячейки можно. Обратите внимание: в результате должно получиться *целое число*, не строка.\n",
    "\n",
    "**Пример-пояснение:** первый назвал цифру 5, второй ‒ цифру 6, третий ‒ 3. Получили число 563.\n",
    "\n",
    "**Пример работы программы:**\n",
    "\n",
    "*Входные данные*\n",
    "\n",
    "    5\n",
    "    6\n",
    "    3\n",
    "    0\n",
    "    \n",
    "*Выходные данные*\n",
    "    \n",
    "    5630\n",
    "\n",
    "**Подсказка:** для склеивания строк (такая операция называется *конкатенацией*) в Python используется `+`:"
   ]
  },
  {
   "cell_type": "code",
   "execution_count": 2,
   "metadata": {},
   "outputs": [
    {
     "name": "stdout",
     "output_type": "stream",
     "text": [
      "password\n"
     ]
    }
   ],
   "source": [
    "a = \"pass\"\n",
    "b = \"word\"\n",
    "\n",
    "print(a + b)"
   ]
  },
  {
   "cell_type": "code",
   "execution_count": 37,
   "metadata": {},
   "outputs": [
    {
     "name": "stdout",
     "output_type": "stream",
     "text": [
      "Please enter any positive figure: 1\n",
      "Another figure again: 2\n",
      "And one more time please: 3\n",
      "And last one: 4\n",
      "1234\n"
     ]
    }
   ],
   "source": [
    "first_figure = input('Please enter any positive figure: ')\n",
    "second_figure = input('Another figure again: ')\n",
    "third_figure = input('And one more time please: ')\n",
    "fourth_figure = input('And last one: ')\n",
    "all_figures = int(first_figure + second_figure + third_figure + fourth_figure)\n",
    "print(all_figures)\n",
    "\n"
   ]
  },
  {
   "cell_type": "markdown",
   "metadata": {},
   "source": [
    "### Задача 7* (дополнительная)\n",
    "\n",
    "Дано целое число `n`. Выведите следующее за ним чётное число. При решении этой задачи *нельзя* использовать условный оператор `if` и циклы.\n",
    "\n",
    "**Подсказка.** В Python существует оператор целочисленного деления `//` (обсуждалсся в видео-уроках) и взятия остатка при делении `%`. Например, результат выполнения операции `15 % 7` равен 1:"
   ]
  },
  {
   "cell_type": "code",
   "execution_count": 3,
   "metadata": {},
   "outputs": [
    {
     "data": {
      "text/plain": [
       "1"
      ]
     },
     "execution_count": 3,
     "metadata": {},
     "output_type": "execute_result"
    }
   ],
   "source": [
    "15 % 7 # 15 : 7 = 2 и 1 в остатке"
   ]
  },
  {
   "cell_type": "markdown",
   "metadata": {},
   "source": [
    "**Примеры работы программы**\n",
    "\n",
    "*Входные данные*\n",
    "\n",
    "    7\n",
    "\n",
    "*Выходные данные*\n",
    "\n",
    "    8\n",
    "\n",
    "*Входные данные*\n",
    "\n",
    "    8\n",
    "\n",
    "*Выходные данные*\n",
    "\n",
    "    10"
   ]
  },
  {
   "cell_type": "code",
   "execution_count": 55,
   "metadata": {},
   "outputs": [
    {
     "name": "stdout",
     "output_type": "stream",
     "text": [
      "Enter any figure: 8\n",
      "10\n"
     ]
    }
   ],
   "source": [
    "income_figure = int(input('Enter any figure: '))\n",
    "next_even_figure = income_figure + (2 - income_figure % 2) \n",
    "print(next_even_figure)\n"
   ]
  }
 ],
 "metadata": {
  "kernelspec": {
   "display_name": "Python 3",
   "language": "python",
   "name": "python3"
  },
  "language_info": {
   "codemirror_mode": {
    "name": "ipython",
    "version": 3
   },
   "file_extension": ".py",
   "mimetype": "text/x-python",
   "name": "python",
   "nbconvert_exporter": "python",
   "pygments_lexer": "ipython3",
   "version": "3.7.4"
  }
 },
 "nbformat": 4,
 "nbformat_minor": 2
}
